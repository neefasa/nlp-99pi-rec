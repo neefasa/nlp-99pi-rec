{
 "cells": [
  {
   "cell_type": "code",
   "execution_count": 34,
   "metadata": {},
   "outputs": [],
   "source": [
    "from bs4 import BeautifulSoup\n",
    "import requests\n",
    "import time\n",
    "import pickle\n",
    "from pymongo import MongoClient\n",
    "import os\n",
    "from dotenv import load_dotenv\n",
    "import re"
   ]
  },
  {
   "cell_type": "code",
   "execution_count": 2,
   "metadata": {},
   "outputs": [
    {
     "data": {
      "text/plain": [
       "True"
      ]
     },
     "execution_count": 2,
     "metadata": {},
     "output_type": "execute_result"
    }
   ],
   "source": [
    "load_dotenv()"
   ]
  },
  {
   "cell_type": "markdown",
   "metadata": {},
   "source": [
    "# Scrap URLs for all episodes\n",
    "Episodes of 99pi and transcripts are hosted on there page. Before scraaping them, I need to scrape the URLs for all the episodes."
   ]
  },
  {
   "cell_type": "code",
   "execution_count": 153,
   "metadata": {},
   "outputs": [
    {
     "name": "stdout",
     "output_type": "stream",
     "text": [
      "1 : 200\n",
      "2 : 200\n",
      "3 : 200\n",
      "4 : 200\n",
      "5 : 200\n",
      "6 : 200\n",
      "7 : 200\n",
      "8 : 200\n",
      "9 : 200\n",
      "10 : 200\n",
      "11 : 200\n",
      "12 : 200\n",
      "13 : 200\n",
      "14 : 200\n"
     ]
    }
   ],
   "source": [
    "episode_urls = []\n",
    "for _ in range(1,15):\n",
    "    response = requests.get(f'https://99percentinvisible.org/episodes/page/{_}/?view_option=list')\n",
    "    print(_,':',response.status_code)\n",
    "    soup = BeautifulSoup(response.text)\n",
    "    \n",
    "    eplist = soup.find(class_='post-list').find_all('h3')\n",
    "    for ep in eplist:\n",
    "        url = ep.find('a')['href']\n",
    "        episode_urls.append(url)\n",
    "    \n",
    "    time.sleep(1)"
   ]
  },
  {
   "cell_type": "code",
   "execution_count": 156,
   "metadata": {
    "scrolled": false
   },
   "outputs": [
    {
     "data": {
      "text/plain": [
       "['https://99percentinvisible.org/episode/whomst-among-us-let-the-dogs-out/',\n",
       " 'https://99percentinvisible.org/episode/missing-the-bus/',\n",
       " 'https://99percentinvisible.org/episode/the-worst-video-game-ever/',\n",
       " 'https://99percentinvisible.org/episode/their-dark-materials/',\n",
       " 'https://99percentinvisible.org/episode/shade/']"
      ]
     },
     "execution_count": 156,
     "metadata": {},
     "output_type": "execute_result"
    }
   ],
   "source": [
    "episode_urls[:5]"
   ]
  },
  {
   "cell_type": "code",
   "execution_count": 155,
   "metadata": {},
   "outputs": [
    {
     "data": {
      "text/plain": [
       "407"
      ]
     },
     "execution_count": 155,
     "metadata": {},
     "output_type": "execute_result"
    }
   ],
   "source": [
    "len(episode_urls)"
   ]
  },
  {
   "cell_type": "code",
   "execution_count": 169,
   "metadata": {},
   "outputs": [],
   "source": [
    "pickle.dump(episode_urls, open('ep_urls.p','wb'))"
   ]
  },
  {
   "cell_type": "code",
   "execution_count": 5,
   "metadata": {},
   "outputs": [],
   "source": [
    "episode_urls = pickle.load(open('ep_urls.p','rb'))"
   ]
  },
  {
   "cell_type": "markdown",
   "metadata": {},
   "source": [
    "# Scrape transcripts\n",
    "After scraping the URLs I could scrape the transcripts by adding 'transcript' to the URLs."
   ]
  },
  {
   "cell_type": "code",
   "execution_count": 204,
   "metadata": {},
   "outputs": [],
   "source": [
    "url = episode_urls[0]"
   ]
  },
  {
   "cell_type": "code",
   "execution_count": null,
   "metadata": {},
   "outputs": [],
   "source": [
    "#ninetynine = []"
   ]
  },
  {
   "cell_type": "markdown",
   "metadata": {},
   "source": [
    "## first pass"
   ]
  },
  {
   "cell_type": "code",
   "execution_count": 208,
   "metadata": {
    "scrolled": true
   },
   "outputs": [
    {
     "name": "stdout",
     "output_type": "stream",
     "text": [
      "200 : whomst-among-us-let-the-dogs-out\n",
      "200 : missing-the-bus\n",
      "200 : the-worst-video-game-ever\n",
      "200 : their-dark-materials\n",
      "200 : shade\n",
      "200 : mini-stories-volume-8\n",
      "200 : mini-stories-volume-7\n",
      "200 : the-eliza-effect\n",
      "200 : the-infantorium\n",
      "200 : mannequin-pixie-dream-girl\n",
      "200 : cautionary-tales\n",
      "200 : ubiquitous-icons-peace-power-and-happiness\n",
      "200 : how-to-pick-a-pepper\n",
      "200 : great-bitter-lake-association\n",
      "200 : audio-guide-to-the-imperfections-of-a-perfect-masterpiece\n",
      "200 : unsure-footing\n",
      "200 : the-kirkbride-plan\n",
      "200 : the-help-yourself-city\n",
      "200 : dead-cars\n",
      "200 : the-pool-and-the-stream-redux\n",
      "200 : wait-wait-tell-me\n",
      "200 : all-rings-considered\n",
      "200 : peace-lines\n",
      "200 : model-city\n",
      "200 : on-beeing\n",
      "200 : hes-still-neutral\n",
      "200 : invisible-women\n",
      "200 : goodness-gracious-great-balls-of-twine\n",
      "200 : built-on-sand\n",
      "200 : the-universal-page\n",
      "200 : singapore\n",
      "200 : the-anthropocene-reviewed\n",
      "200 : the-barney-design-redux\n",
      "200 : the-automat\n",
      "200 : depave-paradise\n",
      "200 : sound-and-health-hospitals\n",
      "200 : la-sagrada-familia-2\n",
      "200 : sound-and-health-cities\n",
      "200 : weeding-is-fundamental\n",
      "200 : from-bombay-with-love\n",
      "200 : uptown-squirrel\n",
      "200 : play-mountain\n",
      "200 : the-roman-mars-mazda-virus\n",
      "200 : froebels-gifts\n",
      "200 : three-things-that-made-the-modern-economy\n",
      "200 : the-many-deaths-of-a-painting\n",
      "200 : palaces-for-the-people\n",
      "200 : classic-cartoon-sound-effects\n",
      "200 : the-known-unknown\n",
      "200 : usonia\n",
      "200 : beneath-the-ballpark\n",
      "200 : national-sword\n",
      "200 : the-secret-lives-of-color\n",
      "200 : the-tunnel\n",
      "200 : crude-habitat\n",
      "200 : atomic-tattoos\n",
      "200 : mini-stories-volume-6\n",
      "200 : gathering-the-magic\n",
      "200 : christmasallusionist\n",
      "200 : mini-stories-volume-5\n",
      "200 : the-accidental-room\n",
      "200 : onates-foot\n",
      "200 : raccoon-resistance\n",
      "200 : the-green-book-redux\n"
     ]
    },
    {
     "ename": "AttributeError",
     "evalue": "'NoneType' object has no attribute 'text'",
     "output_type": "error",
     "traceback": [
      "\u001b[0;31m---------------------------------------------------------------------------\u001b[0m",
      "\u001b[0;31mAttributeError\u001b[0m                            Traceback (most recent call last)",
      "\u001b[0;32m<ipython-input-208-2c91c06658be>\u001b[0m in \u001b[0;36m<module>\u001b[0;34m\u001b[0m\n\u001b[1;32m     14\u001b[0m     \u001b[0mepisode\u001b[0m\u001b[0;34m[\u001b[0m\u001b[0;34m'url'\u001b[0m\u001b[0;34m]\u001b[0m \u001b[0;34m=\u001b[0m \u001b[0murl\u001b[0m\u001b[0;34m\u001b[0m\u001b[0;34m\u001b[0m\u001b[0m\n\u001b[1;32m     15\u001b[0m \u001b[0;34m\u001b[0m\u001b[0m\n\u001b[0;32m---> 16\u001b[0;31m     \u001b[0mepisode\u001b[0m\u001b[0;34m[\u001b[0m\u001b[0;34m'transcript'\u001b[0m\u001b[0;34m]\u001b[0m \u001b[0;34m=\u001b[0m \u001b[0msoup\u001b[0m\u001b[0;34m.\u001b[0m\u001b[0mfind\u001b[0m\u001b[0;34m(\u001b[0m\u001b[0mclass_\u001b[0m\u001b[0;34m=\u001b[0m\u001b[0;34m\"page-content transcript-content\"\u001b[0m\u001b[0;34m)\u001b[0m\u001b[0;34m.\u001b[0m\u001b[0mtext\u001b[0m\u001b[0;34m\u001b[0m\u001b[0;34m\u001b[0m\u001b[0m\n\u001b[0m\u001b[1;32m     17\u001b[0m \u001b[0;34m\u001b[0m\u001b[0m\n\u001b[1;32m     18\u001b[0m     \u001b[0mninetynine\u001b[0m\u001b[0;34m.\u001b[0m\u001b[0mappend\u001b[0m\u001b[0;34m(\u001b[0m\u001b[0mepisode\u001b[0m\u001b[0;34m)\u001b[0m\u001b[0;34m\u001b[0m\u001b[0;34m\u001b[0m\u001b[0m\n",
      "\u001b[0;31mAttributeError\u001b[0m: 'NoneType' object has no attribute 'text'"
     ]
    }
   ],
   "source": [
    "for url in episode_urls:\n",
    "    response = requests.get(url+'transcript')\n",
    "    print(f\"{response.status_code}: {url.split('/')[-2]}\")\n",
    "    soup = BeautifulSoup(response.text)\n",
    "    \n",
    "    episode = dict()\n",
    "    episode['episode_number'] = soup.find('h4').text\n",
    "    episode['title'] = soup.find('h1').text\n",
    "    details = soup.find_all(class_=\"meta-value\")\n",
    "    episode['category'] = details[0].text\n",
    "    episode['date'] = details[1].text\n",
    "    episode['producer'] = details[2].text\n",
    "    episode['url'] = url\n",
    "          \n",
    "    episode['transcript'] = soup.find(class_=\"page-content transcript-content\").text\n",
    "    \n",
    "    ninetynine.append(episode)      \n",
    "    \n",
    "    time.sleep(1)"
   ]
  },
  {
   "cell_type": "code",
   "execution_count": 215,
   "metadata": {},
   "outputs": [
    {
     "data": {
      "text/plain": [
       "63"
      ]
     },
     "execution_count": 215,
     "metadata": {},
     "output_type": "execute_result"
    }
   ],
   "source": [
    "len(ninetynine)"
   ]
  },
  {
   "cell_type": "markdown",
   "metadata": {},
   "source": [
    "## second pass"
   ]
  },
  {
   "cell_type": "code",
   "execution_count": 234,
   "metadata": {
    "scrolled": true
   },
   "outputs": [
    {
     "name": "stdout",
     "output_type": "stream",
     "text": [
      "200:64 orphan-drugs\n",
      "200:65 devolutionary-design\n",
      "200:66 a-year-in-the-dark\n",
      "200:67 welcome-to-jurassic-art\n",
      "200:68 the-worst-way-to-start-a-city\n",
      "200:69 punk-style-articles-of-interest-6\n",
      "200:70 blue-jeans-articles-of-interest-5\n",
      "200:71 hawaiian-shirts-articles-of-interest-4\n",
      "200:72 pockets-articles-of-interest-3\n",
      "200:73 plaid-articles-of-interest-2\n",
      "200:74 kids-clothes-articles-of-interest-1\n",
      "200:75 billboard-boys-the-greatest-radio-contest-of-all-time\n",
      "200:76 the-house-that-came-in-the-mail\n",
      "200:77 the-first-straw\n",
      "200:78 double-standards\n",
      "200:79 bundyville\n",
      "200:80 its-chinatown\n",
      "200:81 fire-and-rain\n",
      "200:82 built-to-burn\n",
      "200:83 the-shipping-forecast\n",
      "200:84 everything-is-alive\n",
      "200:85 interrobang\n",
      "200:86 right-to-roam\n",
      "200:87 post-narco-urbanism\n",
      "200:88 the-barney-design\n",
      "200:89 77-steps\n",
      "200:90 the-vault\n",
      "200:91 curb-cuts\n",
      "200:92 immobile-homes\n",
      "200:93 breaking-bad-news\n",
      "200:94 the-laff-box\n",
      "200:95 gander-international-airport\n",
      "200:96 the-hair-chart\n",
      "200:97 lessons-from-las-vegas\n",
      "200:98 making-it-rain\n",
      "200:99 airships-future-never\n",
      "200:100 gerrymandering\n"
     ]
    },
    {
     "ename": "IndexError",
     "evalue": "list index out of range",
     "output_type": "error",
     "traceback": [
      "\u001b[0;31m---------------------------------------------------------------------------\u001b[0m",
      "\u001b[0;31mIndexError\u001b[0m                                Traceback (most recent call last)",
      "\u001b[0;32m<ipython-input-234-fed72dca512c>\u001b[0m in \u001b[0;36m<module>\u001b[0;34m\u001b[0m\n\u001b[1;32m     10\u001b[0m     \u001b[0mepisode\u001b[0m\u001b[0;34m[\u001b[0m\u001b[0;34m'category'\u001b[0m\u001b[0;34m]\u001b[0m \u001b[0;34m=\u001b[0m \u001b[0mdetails\u001b[0m\u001b[0;34m[\u001b[0m\u001b[0;36m0\u001b[0m\u001b[0;34m]\u001b[0m\u001b[0;34m.\u001b[0m\u001b[0mtext\u001b[0m\u001b[0;34m\u001b[0m\u001b[0;34m\u001b[0m\u001b[0m\n\u001b[1;32m     11\u001b[0m     \u001b[0mepisode\u001b[0m\u001b[0;34m[\u001b[0m\u001b[0;34m'date'\u001b[0m\u001b[0;34m]\u001b[0m \u001b[0;34m=\u001b[0m \u001b[0mdetails\u001b[0m\u001b[0;34m[\u001b[0m\u001b[0;36m1\u001b[0m\u001b[0;34m]\u001b[0m\u001b[0;34m.\u001b[0m\u001b[0mtext\u001b[0m\u001b[0;34m\u001b[0m\u001b[0;34m\u001b[0m\u001b[0m\n\u001b[0;32m---> 12\u001b[0;31m     \u001b[0mepisode\u001b[0m\u001b[0;34m[\u001b[0m\u001b[0;34m'producer'\u001b[0m\u001b[0;34m]\u001b[0m \u001b[0;34m=\u001b[0m \u001b[0mdetails\u001b[0m\u001b[0;34m[\u001b[0m\u001b[0;36m2\u001b[0m\u001b[0;34m]\u001b[0m\u001b[0;34m.\u001b[0m\u001b[0mtext\u001b[0m\u001b[0;34m\u001b[0m\u001b[0;34m\u001b[0m\u001b[0m\n\u001b[0m\u001b[1;32m     13\u001b[0m     \u001b[0mepisode\u001b[0m\u001b[0;34m[\u001b[0m\u001b[0;34m'url'\u001b[0m\u001b[0;34m]\u001b[0m \u001b[0;34m=\u001b[0m \u001b[0murl\u001b[0m\u001b[0;34m\u001b[0m\u001b[0;34m\u001b[0m\u001b[0m\n\u001b[1;32m     14\u001b[0m \u001b[0;34m\u001b[0m\u001b[0m\n",
      "\u001b[0;31mIndexError\u001b[0m: list index out of range"
     ]
    }
   ],
   "source": [
    "for i, url in enumerate(episode_urls[64:]):\n",
    "    response = requests.get(url+'transcript')\n",
    "    print(f\"{response.status_code}:{i+64} {url.split('/')[-2]}\")\n",
    "    soup = BeautifulSoup(response.text)\n",
    "    \n",
    "    episode = dict()\n",
    "    episode['episode_number'] = soup.find('h4').text\n",
    "    episode['title'] = soup.find('h1').text\n",
    "    details = soup.find_all(class_=\"meta-value\")\n",
    "    episode['category'] = details[0].text\n",
    "    episode['date'] = details[1].text\n",
    "    episode['producer'] = details[2].text\n",
    "    episode['url'] = url\n",
    "          \n",
    "    episode['transcript'] = soup.find(class_=\"page-content transcript-content\").text\n",
    "    \n",
    "    ninetynine.append(episode)      \n",
    "    \n",
    "    time.sleep(1)"
   ]
  },
  {
   "cell_type": "markdown",
   "metadata": {},
   "source": [
    "## third pass"
   ]
  },
  {
   "cell_type": "code",
   "execution_count": 249,
   "metadata": {},
   "outputs": [
    {
     "name": "stdout",
     "output_type": "stream",
     "text": [
      "200:101 miss-manhattan-r\n",
      "200:102 fordlandia\n",
      "200:103 blood-sweat-tears-city-future-part-2\n",
      "200:104 bijlmer-city-future-part-1\n",
      "200:105 making-mark-visual-identity-tom-geismar\n",
      "200:106 border-wall\n",
      "200:107 managed-retreat\n",
      "200:108 speech-bubbles-understanding-comics-scott-mccloud\n",
      "200:109 thermal-delight\n",
      "200:110 mini-stories-volume-4\n",
      "200:111 mini-stories-volume-3\n",
      "200:112 guerrilla-public-service\n",
      "200:113 nut-behind-wheel\n",
      "200:114 700-foot-mountain-whipped-cream\n",
      "200:115 money-makers\n",
      "200:116 hero-props-graphic-design-film-television\n",
      "200:117 dollhouses-st-louis\n",
      "200:118 oyster-tecture\n",
      "200:119 la-sagrada-familia\n",
      "200:120 half-measures\n",
      "200:121 the-containment-plan\n"
     ]
    },
    {
     "ename": "AttributeError",
     "evalue": "'NoneType' object has no attribute 'text'",
     "output_type": "error",
     "traceback": [
      "\u001b[0;31m---------------------------------------------------------------------------\u001b[0m",
      "\u001b[0;31mAttributeError\u001b[0m                            Traceback (most recent call last)",
      "\u001b[0;32m<ipython-input-249-f3ab32395994>\u001b[0m in \u001b[0;36m<module>\u001b[0;34m\u001b[0m\n\u001b[1;32m      7\u001b[0m     \u001b[0mepisode\u001b[0m \u001b[0;34m=\u001b[0m \u001b[0mdict\u001b[0m\u001b[0;34m(\u001b[0m\u001b[0;34m)\u001b[0m\u001b[0;34m\u001b[0m\u001b[0;34m\u001b[0m\u001b[0m\n\u001b[1;32m      8\u001b[0m     \u001b[0mepisode\u001b[0m\u001b[0;34m[\u001b[0m\u001b[0;34m'episode_number'\u001b[0m\u001b[0;34m]\u001b[0m \u001b[0;34m=\u001b[0m \u001b[0msoup\u001b[0m\u001b[0;34m.\u001b[0m\u001b[0mfind\u001b[0m\u001b[0;34m(\u001b[0m\u001b[0;34m'h4'\u001b[0m\u001b[0;34m)\u001b[0m\u001b[0;34m.\u001b[0m\u001b[0mtext\u001b[0m\u001b[0;34m\u001b[0m\u001b[0;34m\u001b[0m\u001b[0m\n\u001b[0;32m----> 9\u001b[0;31m     \u001b[0mepisode\u001b[0m\u001b[0;34m[\u001b[0m\u001b[0;34m'title'\u001b[0m\u001b[0;34m]\u001b[0m \u001b[0;34m=\u001b[0m \u001b[0msoup\u001b[0m\u001b[0;34m.\u001b[0m\u001b[0mfind\u001b[0m\u001b[0;34m(\u001b[0m\u001b[0;34m'h1'\u001b[0m\u001b[0;34m)\u001b[0m\u001b[0;34m.\u001b[0m\u001b[0mtext\u001b[0m\u001b[0;34m\u001b[0m\u001b[0;34m\u001b[0m\u001b[0m\n\u001b[0m\u001b[1;32m     10\u001b[0m     \u001b[0mdetails\u001b[0m \u001b[0;34m=\u001b[0m \u001b[0msoup\u001b[0m\u001b[0;34m.\u001b[0m\u001b[0mfind_all\u001b[0m\u001b[0;34m(\u001b[0m\u001b[0mclass_\u001b[0m\u001b[0;34m=\u001b[0m\u001b[0;34m\"meta-value\"\u001b[0m\u001b[0;34m)\u001b[0m\u001b[0;34m\u001b[0m\u001b[0;34m\u001b[0m\u001b[0m\n\u001b[1;32m     11\u001b[0m     \u001b[0mepisode\u001b[0m\u001b[0;34m[\u001b[0m\u001b[0;34m'category'\u001b[0m\u001b[0;34m]\u001b[0m \u001b[0;34m=\u001b[0m \u001b[0mdetails\u001b[0m\u001b[0;34m[\u001b[0m\u001b[0;36m0\u001b[0m\u001b[0;34m]\u001b[0m\u001b[0;34m.\u001b[0m\u001b[0mtext\u001b[0m\u001b[0;34m\u001b[0m\u001b[0;34m\u001b[0m\u001b[0m\n",
      "\u001b[0;31mAttributeError\u001b[0m: 'NoneType' object has no attribute 'text'"
     ]
    }
   ],
   "source": [
    "start = 101\n",
    "for i, url in enumerate(episode_urls[start:]):\n",
    "    response = requests.get(url+'transcript')\n",
    "    print(f\"{response.status_code}:{i+start} {url.split('/')[-2]}\")\n",
    "    soup = BeautifulSoup(response.text)\n",
    "    \n",
    "    episode = dict()\n",
    "    episode['episode_number'] = soup.find('h4').text\n",
    "    episode['title'] = soup.find('h1').text\n",
    "    details = soup.find_all(class_=\"meta-value\")\n",
    "    episode['category'] = details[0].text\n",
    "    episode['date'] = details[1].text\n",
    "    episode['producer'] = details[2].text\n",
    "    episode['url'] = url\n",
    "\n",
    "    episode['transcript'] = soup.find(class_=\"page-content transcript-content\").text\n",
    "\n",
    "    ninetynine.append(episode)      \n",
    "      \n",
    "    time.sleep(1)"
   ]
  },
  {
   "cell_type": "markdown",
   "metadata": {},
   "source": [
    "## forth pass\n",
    "My code would halt when it encountered a problem. I finally rewrote it to keep going and let me know if something went wrong. There were errors because there wasn't a transcript for those episodes."
   ]
  },
  {
   "cell_type": "code",
   "execution_count": 258,
   "metadata": {
    "scrolled": true
   },
   "outputs": [
    {
     "name": "stdout",
     "output_type": "stream",
     "text": [
      "200:122 the-athletic-brassiere\n",
      "200:123 ponte-city-tower\n",
      "200:124 the-finnish-experiment\n",
      "200:125 coal-hogs-work-safe\n",
      "200:126 the-age-of-the-algorithm\n",
      "200:127 notes-imagined-plaque\n",
      "200:128 person-lotus-position\n",
      "200:129 great-dismal-swamp\n",
      "200:130 the-stethoscope\n",
      "200:131 ways-of-hearing\n",
      "200:132 el-gordo\n",
      "200:133 trials-dan-dave\n",
      "200:134 repackaging-the-pill\n",
      "200:135 the-pool-and-the-stream\n",
      "200:136 mexico-68\n",
      "200:137 you-should-do-a-story\n",
      "200:138 in-the-same-ballpark\n",
      "200:139 yin-yang-basketball\n",
      "200:140 squatters-lower-east-side\n",
      "200:141 new-jersey\n",
      "200:142 chance-anchorwoman-great-alaska-earthquake\n",
      "200:143 the-modern-necropolis\n",
      "200:144 reversing-the-grid\n",
      "200:145 sounds-natural\n",
      "200:146 the-architect-of-hollywood\n",
      "200:147 containers-ships-tugs-port\n",
      "200:148 manzanar\n",
      "200:149 the-falling-of-the-lenins\n",
      "200:150 negative-space-logo-design-michael-bierut\n",
      "200:151 state-sanctuary-part-2\n",
      "200:152 church-sanctuary-part-1\n",
      "200:153 atom-garden-eden\n",
      "200:154 usonia-the-beautiful\n",
      "200:155 usonia-1\n",
      "200:156 the-eponymist\n",
      "200:157 the-revolutionary-post\n",
      "200:158 tom-swift-electric-rifle\n",
      "200:159 mini-stories-volume-2\n",
      "200:160 mini-stories-volume-1\n",
      "200:161 plat-of-zion\n",
      "200:162 guano-mania\n",
      "200:163 nbc-chimes-behind-scenes-first-trademarked-sound\n",
      "200:164 dollar-store-town-inside-worlds-biggest-wholesale-market\n",
      "200:165 reverb-evolution-architectural-acoustics\n",
      "200:166 ten-letters-president\n",
      "200:167 shift-redesigning-baseballs-defense\n",
      "200:168 space-trash-space-treasure\n",
      "200:169 mcmansion-hell-devil-details\n",
      "200:170 half-a-house\n",
      "200:171 project-cybersyn\n",
      "200:172 the-trend-forecast\n",
      "200:173 making-up-ground\n",
      "200:174 public-works-rethinking-americas-transportation-infrastructure\n",
      "200:175 on-average\n",
      "200:176 photo-credit-negatives-bauhaus\n",
      "200:177 sea-worth-salt\n",
      "200:178 magic-bureaucrat-riverside-miracle\n",
      "200:179 combat-hearing-loss\n",
      "200:180 americas-last-top-model\n",
      "200:181 the-mind-of-an-architect\n",
      "200:182 unpleasant-design-hostile-urban-architecture\n",
      "200:183 remembering-stonewall\n",
      "200:184 home-on-lagrange\n",
      "200:185 the-blazer-experiment\n",
      "200:186 h-day\n",
      "200:187 loud-and-clear\n",
      "200:188 separation-anxiety\n",
      "200:189 turf-wars\n",
      "200:190 the-grand-dame-of-broad-street\n",
      "200:191 unseen-city-wonders-urban-wilderness\n",
      "200:192 supertall-101\n",
      "200:193 vox-ex-machina\n",
      "200:194 soul-city\n",
      "200:195 stop-that-bus\n",
      "200:196 flying-food\n",
      "200:197 the-soho-effect\n",
      "200:198 the-giftschrank\n",
      "200:199 mojave-phone-booth\n",
      "200:200 the-green-book\n",
      "200:201 miss-manhattan\n",
      "200:202 frozen-assets\n",
      "200:203 fish-cannon\n",
      "200:204 the-fresno-drop\n",
      "200:205 best-enjoyed-by\n",
      "200:206 bone-music\n",
      "200:207 tube-benders\n",
      "200:208 pagodas-dragon-gates\n",
      "200:209 worst-smell-in-the-world\n",
      "200:210 fixing-the-hobo-suit\n",
      "200:211 the-landlords-game\n",
      "200:212 fountain-drinks\n",
      "200:213 butterfly-effects\n",
      "200:214 war-and-pizza\n",
      "200:215 atmospherians\n",
      "200:216 structural-integrity-2\n",
      "200:217 rajneeshpuram\n",
      "200:218 dead-letter-office\n",
      "200:219 a-sweet-surprise-awaits-you\n",
      "200:220 milk-carton-kids\n",
      "200:221 reefer-madness\n",
      "200:222 bathysphere\n",
      "200:223 the-great-restoration\n",
      "200:224 lawn-order\n",
      "200:225 hard-to-love-a-brute\n",
      "200:226 the-sunshine-hotel\n",
      "200:227 from-the-sea-freedom\n",
      "200:228 awareness\n",
      "200:229 on-location\n",
      "200:230 johnnycab-automation-paradox-pt-2\n",
      "200:231 children-of-the-magenta-automation-paradox-pt-1\n",
      "200:232 freuds-couch\n",
      "200:233 all-in-your-head\n",
      "200:234 voices-in-the-wire\n",
      "200:235 viva-la-arquitectura\n",
      "200:236 the-nutshell-studies\n",
      "Failed the-nutshell-studies\n",
      "200:237 the-post-billiards-age\n",
      "Failed the-post-billiards-age\n",
      "200:238 the-gruen-effect\n",
      "Failed the-gruen-effect\n",
      "200:239 mystery-house\n",
      "200:240 show-of-force\n",
      "200:241 perfect-security\n",
      "200:242 the-calendar\n",
      "200:243 sandhogs\n",
      "200:244 the-colour-of-money-r\n",
      "200:245 devils-rope\n",
      "200:246 coin-check\n",
      "200:247 palm-reading\n",
      "200:248 pdx-carpet\n",
      "200:249 game-over\n",
      "200:250 la-mascotte\n",
      "200:251 under-the-moonlight\n",
      "200:252 of-mice-and-men\n",
      "200:253 the-sizzle\n",
      "200:254 penn-station-sucks\n",
      "200:255 mooallempalooza\n",
      "Failed mooallempalooza\n",
      "200:256 octothorpe\n",
      "200:257 there-is-a-light-that-never-goes-out\n",
      "200:258 inflatable-men\n",
      "200:259 and-the-winner-is\n",
      "200:260 three-records-from-sundown\n",
      "Failed three-records-from-sundown\n",
      "200:261 vexillonaire\n",
      "200:262 edge-of-your-seat\n",
      "200:263 o-u-i-j-a\n",
      "200:264 good-bread\n",
      "200:265 lights-out\n",
      "200:266 for-amusement-only\n",
      "200:267 the-straight-line-is-a-godless-line\n",
      "200:268 port-of-dallas\n",
      "200:269 castle-on-the-park\n",
      "200:270 genesis-object\n",
      "200:271 holdout\n",
      "200:272 thomassons\n",
      "200:273 hacking-ikea\n",
      "200:274 the-sound-of-sports\n",
      "200:275 walk-this-way\n",
      "200:276 duplitecture\n",
      "200:277 longbox\n",
      "200:278 snowflake\n",
      "200:279 good-egress\n",
      "200:280 cold-war-kids\n",
      "200:281 skyjacking\n",
      "200:282 feet-of-engineering\n",
      "200:283 song-exploder\n",
      "200:284 clean-trains\n",
      "200:285 breaking-the-bank\n",
      "200:286 cow-tunnels\n",
      "200:287 ten-thousand-years\n",
      "200:288 monumental-dilemma\n",
      "200:289 young-ruin\n",
      "200:290 masters-of-the-uni-verse\n",
      "200:291 structural-integrity\n",
      "200:292 title-tk\n",
      "200:293 barcodes\n",
      "200:294 call-now\n",
      "200:295 the-fancy-shape\n",
      "200:296 one-man-is-an-island\n",
      "200:297 tunnel-57\n",
      "200:298 u-t-b-a-p-h\n",
      "200:299 icon-for-access\n",
      "200:300 cover-story\n",
      "200:301 higher-and-higher\n",
      "200:302 the-view-from-the-79th-floor\n",
      "200:303 six-stories\n",
      "200:304 numbers-stations\n",
      "200:305 diy-space-suits\n",
      "200:306 future-screens-are-mostly-blue\n",
      "200:307 unbuilt\n",
      "200:308 revolving-doors\n",
      "200:309 all-the-buildings\n",
      "200:310 kickstarter-announcement-always-read-the-plaque\n",
      "Failed kickstarter-announcement-always-read-the-plaque\n",
      "200:311 wild-ones-live\n",
      "200:312 strowger-switch-purple-reign-redux\n",
      "200:313 bubble-houses\n",
      "200:314 the-broadcast-clock\n",
      "200:315 episode-87-i-heart-ny-tm\n",
      "200:316 episode-86-reversal-of-fortune\n",
      "200:317 episode-85-noble-effort\n",
      "200:318 episode-84-ladislav-sutnar-trading-places-with\n",
      "200:319 episode-83-heyoon\n",
      "200:320 episode-82-the-man-of-tomorrow\n",
      "200:321 episode-81-rebar-and-the-alvord-lake-bridge\n",
      "200:322 episode-80-an-architects-code\n",
      "200:323 episode-79-symphony-of-sirens-revisited\n",
      "200:324 episode-78-no-armed-bandit\n",
      "200:325 episode-77-game-changer\n",
      "200:326 episode-76-the-modern-moloch\n",
      "200:327 episode-75-secret-staircases\n",
      "200:328 episode-74-hand-painted-signs\n",
      "200:329 episode-73-the-zanzibar-and-other-building-poems\n",
      "200:330 episode-72-new-old-town\n",
      "200:331 episode-71-in-and-out-of-love\n",
      "200:332 episode-70-the-great-red-car-conspiracy\n",
      "200:333 episode-69-the-brief-and-tumultuous-life-of-the-new-uc\n",
      "200:334 episode-68-built-for-speed\n",
      "200:335 episode-67-broken-window\n",
      "200:336 episode-66-kowloon-walled-city\n",
      "200:337 episode-65-razzle-dazzle\n",
      "200:338 episode-64-derelict-dome\n",
      "200:339 episode-63-the-political-stage\n",
      "200:340 episode-62-q2\n",
      "200:341 episode-61-a-series-of-tubes\n",
      "200:342 episode-60b-backstory-heyward-shepherd-memorial\n",
      "200:343 episode-60a-two-storeys-language-bites-and-the-memory\n",
      "200:344 episode-60-names-vs-the-nothing\n",
      "200:345 episode-59-some-other-sign-that-people-do-not-totally\n",
      "200:346 episode-58-purple-reign\n",
      "200:347 episode-57-what-gave-you-that-idea\n",
      "200:348 episode-56-frozen-music\n",
      "200:349 episode-55-the-best-beer-in-the-world\n",
      "200:350 episode-54-the-colour-of-money\n",
      "200:351 episode-53-the-xanadu-effect\n",
      "200:352 episode-52-galloping-gertie\n",
      "200:353 episode-51-the-arsenal-of-exclusion\n",
      "200:354 episode-50-deafspace\n",
      "200:355 episode-49-queue-theory-and-design\n",
      "200:356 episode-48-the-bathtubs-or-the-boiler-room\n",
      "200:357 episode-47-us-postal-service-stamps\n",
      "200:358 episode-46-vulcanite-dentures-or-when-patent\n",
      "200:359 episode-45-beauty-pill-immersive-ideal\n",
      "200:360 episode-44-the-pruitt-igoe-myth\n",
      "200:361 episode-43-the-accidental-music-of-imperfect\n",
      "200:362 episode-42-recognizably-anonymous\n",
      "200:363 episode-41-the-human-human-interface\n",
      "200:364 episode-40-billy-possum\n",
      "200:365 episode-39x-the-biography-of-100-000-square-feet\n",
      "200:366 episode-39-the-darth-vader-family-courthouse\n",
      "200:367 episode-38-the-sound-of-sport\n",
      "200:368 episode-37-the-steering-wheel\n",
      "200:369 episode-36-super-bon-bonn\n",
      "200:370 episode-35-elegy-for-wtc\n",
      "200:371 episode-34-building-pyramids\n",
      "200:372 episode-33-a-cheer-for-samuel-plimsoll\n",
      "200:373 episode-32-design-for-airports\n",
      "200:374 episode-31-the-feltron-annual-report\n",
      "200:375 episode-30-the-blue-yarn-download-embed-share\n",
      "200:376 episode-29-cul-de-sac-download-embed-share\n",
      "200:377 episode-28-movie-title-sequences-download\n",
      "200:378 episode-27-bridge-to-the-sky-download-embed\n",
      "200:379 episode-26-the-mcc-chicagos-jailhouse\n",
      "200:380 episode-25-unsung-icons-of-soviet-design\n"
     ]
    },
    {
     "name": "stdout",
     "output_type": "stream",
     "text": [
      "200:381 episode-24-the-two-fates-of-the-old-east-portico\n",
      "200:382 episode-23-you-are-listening-to\n",
      "200:383 episode-22-the-invisible-monument-to-free-speech\n",
      "200:384 episode-21-bldgblog-on-sound\n",
      "200:385 episode-20-nikko-concrete-commando\n",
      "200:386 99-invisible-extra-episode-19x-rjdj-reactive\n",
      "200:387 episode-19-liberation-squares-ny-dick\n",
      "200:388 episode-18-check-cashing-stores-download-embed\n",
      "200:389 episode-17-concrete-furniture\n",
      "200:390 episode-16-a-designed-language-download-embed\n",
      "200:391 episode-15-the-sound-of-the-artificial-world\n",
      "200:392 episode-14-the-periodic-table-infographic\n",
      "200:393 episode-13-maps-they-dont-love-you-like-i-love\n",
      "200:394 episode-12-99-guilt-free\n",
      "200:395 episode-11-99-undesigned-but-still-evil\n",
      "200:396 episode-10-99-sound-and-feel\n",
      "200:397 episode-09-99-private\n",
      "200:398 9x-one-way-ticket-to-mars\n",
      "200:399 episode-08-99-free-parking\n",
      "200:400 episode-07-99-alien\n",
      "200:401 episode-06-99-symbolic\n",
      "200:402 episode-05-99-forgotten\n",
      "200:403 download-embed-share-episode-04-99\n",
      "200:404 download-embed-share-episode-03-99-reality\n",
      "200:405 02-99-180\n",
      "200:406 99-invisible-01-99-noise-by-roman-mars-this\n"
     ]
    }
   ],
   "source": [
    "start = 122\n",
    "for i, url in enumerate(episode_urls[start:]):\n",
    "    try:\n",
    "        response = requests.get(url+'transcript')\n",
    "        print(f\"{response.status_code}:{i+start} {url.split('/')[-2]}\")\n",
    "        soup = BeautifulSoup(response.text)\n",
    "    \n",
    "        episode = dict()\n",
    "        episode['episode_number'] = soup.find('h4').text\n",
    "        episode['title'] = soup.find('h1').text\n",
    "        details = soup.find_all(class_=\"meta-value\")\n",
    "        episode['category'] = details[0].text\n",
    "        episode['date'] = details[1].text\n",
    "        episode['producer'] = details[2].text\n",
    "        episode['url'] = url\n",
    "\n",
    "        episode['transcript'] = soup.find(class_=\"page-content transcript-content\").text\n",
    "\n",
    "        ninetynine.append(episode)      \n",
    "    except:\n",
    "        failed_urls.append(url)\n",
    "        print(f\"Failed {url.split('/')[-2]}\")\n",
    "          \n",
    "    time.sleep(1)"
   ]
  },
  {
   "cell_type": "markdown",
   "metadata": {},
   "source": [
    "## Fails"
   ]
  },
  {
   "cell_type": "code",
   "execution_count": 253,
   "metadata": {},
   "outputs": [],
   "source": [
    "failed_urls = [episode_urls[100],episode_urls[121]]"
   ]
  },
  {
   "cell_type": "code",
   "execution_count": 259,
   "metadata": {},
   "outputs": [
    {
     "data": {
      "text/plain": [
       "['https://99percentinvisible.org/episode/gerrymandering/',\n",
       " 'https://99percentinvisible.org/episode/the-containment-plan/',\n",
       " 'https://99percentinvisible.org/episode/the-nutshell-studies/',\n",
       " 'https://99percentinvisible.org/episode/the-post-billiards-age/',\n",
       " 'https://99percentinvisible.org/episode/the-gruen-effect/',\n",
       " 'https://99percentinvisible.org/episode/mooallempalooza/',\n",
       " 'https://99percentinvisible.org/episode/three-records-from-sundown/',\n",
       " 'https://99percentinvisible.org/episode/kickstarter-announcement-always-read-the-plaque/']"
      ]
     },
     "execution_count": 259,
     "metadata": {},
     "output_type": "execute_result"
    }
   ],
   "source": [
    "failed_urls"
   ]
  },
  {
   "cell_type": "code",
   "execution_count": 260,
   "metadata": {},
   "outputs": [
    {
     "data": {
      "text/plain": [
       "398"
      ]
     },
     "execution_count": 260,
     "metadata": {},
     "output_type": "execute_result"
    }
   ],
   "source": [
    "len(ninetynine)"
   ]
  },
  {
   "cell_type": "code",
   "execution_count": 261,
   "metadata": {},
   "outputs": [
    {
     "data": {
      "text/plain": [
       "407"
      ]
     },
     "execution_count": 261,
     "metadata": {},
     "output_type": "execute_result"
    }
   ],
   "source": [
    "len(episode_urls)"
   ]
  },
  {
   "cell_type": "code",
   "execution_count": 262,
   "metadata": {},
   "outputs": [
    {
     "data": {
      "text/plain": [
       "8"
      ]
     },
     "execution_count": 262,
     "metadata": {},
     "output_type": "execute_result"
    }
   ],
   "source": [
    "len(failed_urls)"
   ]
  },
  {
   "cell_type": "markdown",
   "metadata": {},
   "source": [
    "### Examine fails"
   ]
  },
  {
   "cell_type": "markdown",
   "metadata": {},
   "source": [
    "**Without transcripts**\n",
    "* the-green-book-redux\n",
    "* the-containment-plan\n",
    "* the-nutshell-studies\n",
    "* the-post-billiards-age\n",
    "* the-gruen-effect\n",
    "* mooallempalooza\n",
    "* three-records-from-sundown\n",
    "* kickstarter-announcement-always-read-the-plaque\n"
   ]
  },
  {
   "cell_type": "code",
   "execution_count": 305,
   "metadata": {},
   "outputs": [
    {
     "name": "stdout",
     "output_type": "stream",
     "text": [
      "200: kickstarter-announcement-always-read-the-plaque\n"
     ]
    },
    {
     "ename": "AttributeError",
     "evalue": "'NoneType' object has no attribute 'text'",
     "output_type": "error",
     "traceback": [
      "\u001b[0;31m---------------------------------------------------------------------------\u001b[0m",
      "\u001b[0;31mAttributeError\u001b[0m                            Traceback (most recent call last)",
      "\u001b[0;32m<ipython-input-305-4bc0e78b0979>\u001b[0m in \u001b[0;36m<module>\u001b[0;34m\u001b[0m\n\u001b[1;32m     14\u001b[0m \u001b[0mepisode\u001b[0m\u001b[0;34m[\u001b[0m\u001b[0;34m'url'\u001b[0m\u001b[0;34m]\u001b[0m \u001b[0;34m=\u001b[0m \u001b[0murl\u001b[0m\u001b[0;34m\u001b[0m\u001b[0;34m\u001b[0m\u001b[0m\n\u001b[1;32m     15\u001b[0m \u001b[0;34m\u001b[0m\u001b[0m\n\u001b[0;32m---> 16\u001b[0;31m \u001b[0mepisode\u001b[0m\u001b[0;34m[\u001b[0m\u001b[0;34m'transcript'\u001b[0m\u001b[0;34m]\u001b[0m \u001b[0;34m=\u001b[0m \u001b[0msoup\u001b[0m\u001b[0;34m.\u001b[0m\u001b[0mfind\u001b[0m\u001b[0;34m(\u001b[0m\u001b[0mclass_\u001b[0m\u001b[0;34m=\u001b[0m\u001b[0;34m\"page-content transcript-content\"\u001b[0m\u001b[0;34m)\u001b[0m\u001b[0;34m.\u001b[0m\u001b[0mtext\u001b[0m\u001b[0;34m\u001b[0m\u001b[0;34m\u001b[0m\u001b[0m\n\u001b[0m",
      "\u001b[0;31mAttributeError\u001b[0m: 'NoneType' object has no attribute 'text'"
     ]
    }
   ],
   "source": [
    "url = failed_urls[7]\n",
    "\n",
    "response = requests.get(url+'transcript')\n",
    "print(f\"{response.status_code}: {url.split('/')[-2]}\")\n",
    "soup = BeautifulSoup(response.text)\n",
    "\n",
    "episode = dict()\n",
    "episode['episode_number'] = soup.find('h4').text\n",
    "episode['title'] = soup.find('h1').text\n",
    "details = soup.find_all(class_=\"meta-value\")\n",
    "episode['category'] = details[0].text\n",
    "episode['date'] = details[1].text\n",
    "episode['producer'] = details[2].text\n",
    "episode['url'] = url\n",
    "\n",
    "episode['transcript'] = soup.find(class_=\"page-content transcript-content\").text"
   ]
  },
  {
   "cell_type": "code",
   "execution_count": 306,
   "metadata": {},
   "outputs": [
    {
     "data": {
      "text/plain": [
       "{'episode_number': 'Episode 91x',\n",
       " 'title': 'Kickstarter Season 4 Announcement',\n",
       " 'category': 'History',\n",
       " 'date': '10.26.13',\n",
       " 'producer': '99pi',\n",
       " 'url': 'https://99percentinvisible.org/episode/kickstarter-announcement-always-read-the-plaque/'}"
      ]
     },
     "execution_count": 306,
     "metadata": {},
     "output_type": "execute_result"
    }
   ],
   "source": [
    "episode"
   ]
  },
  {
   "cell_type": "code",
   "execution_count": 307,
   "metadata": {},
   "outputs": [
    {
     "name": "stdout",
     "output_type": "stream",
     "text": [
      "https://99percentinvisible.org/episode/kickstarter-announcement-always-read-the-plaque/\n"
     ]
    }
   ],
   "source": [
    "print(url)"
   ]
  },
  {
   "cell_type": "code",
   "execution_count": null,
   "metadata": {},
   "outputs": [],
   "source": []
  },
  {
   "cell_type": "markdown",
   "metadata": {},
   "source": [
    "# pickle db"
   ]
  },
  {
   "cell_type": "code",
   "execution_count": 316,
   "metadata": {},
   "outputs": [],
   "source": [
    "pickle.dump(ninetynine, open('ninetynine.p','wb'))"
   ]
  },
  {
   "cell_type": "code",
   "execution_count": null,
   "metadata": {},
   "outputs": [],
   "source": []
  },
  {
   "cell_type": "code",
   "execution_count": null,
   "metadata": {},
   "outputs": [],
   "source": []
  },
  {
   "cell_type": "markdown",
   "metadata": {},
   "source": [
    "# MongoDB upload"
   ]
  },
  {
   "cell_type": "code",
   "execution_count": 394,
   "metadata": {},
   "outputs": [],
   "source": [
    "host = os.getenv('host')\n",
    "pwd = os.getenv('mongo_pwd')"
   ]
  },
  {
   "cell_type": "code",
   "execution_count": 395,
   "metadata": {},
   "outputs": [],
   "source": [
    "config = {\n",
    "  'host': host+':27017',\n",
    "  'username': 'mongo_user',\n",
    "  'password': pwd,\n",
    "  'authSource': 'proj4'\n",
    "}"
   ]
  },
  {
   "cell_type": "code",
   "execution_count": 396,
   "metadata": {},
   "outputs": [],
   "source": [
    "client = MongoClient(**config)"
   ]
  },
  {
   "cell_type": "code",
   "execution_count": 397,
   "metadata": {},
   "outputs": [
    {
     "data": {
      "text/plain": [
       "['proj4']"
      ]
     },
     "execution_count": 397,
     "metadata": {},
     "output_type": "execute_result"
    }
   ],
   "source": [
    "client.list_database_names()"
   ]
  },
  {
   "cell_type": "code",
   "execution_count": 368,
   "metadata": {},
   "outputs": [],
   "source": [
    "db = client.proj4"
   ]
  },
  {
   "cell_type": "code",
   "execution_count": 379,
   "metadata": {},
   "outputs": [
    {
     "data": {
      "text/plain": [
       "['test', 'ninetynine']"
      ]
     },
     "execution_count": 379,
     "metadata": {},
     "output_type": "execute_result"
    }
   ],
   "source": [
    "db.list_collection_names()"
   ]
  },
  {
   "cell_type": "code",
   "execution_count": 399,
   "metadata": {},
   "outputs": [],
   "source": [
    "db.create_collection('ninetynine')"
   ]
  },
  {
   "cell_type": "code",
   "execution_count": 387,
   "metadata": {},
   "outputs": [
    {
     "data": {
      "text/plain": [
       "<pymongo.results.InsertManyResult at 0x11427ae60>"
      ]
     },
     "execution_count": 387,
     "metadata": {},
     "output_type": "execute_result"
    }
   ],
   "source": [
    "db.ninetynine.insert_many(ninetynine)"
   ]
  },
  {
   "cell_type": "code",
   "execution_count": 388,
   "metadata": {
    "scrolled": true
   },
   "outputs": [
    {
     "name": "stderr",
     "output_type": "stream",
     "text": [
      "/Users/nkfoster/opt/anaconda3/envs/metis/lib/python3.7/site-packages/ipykernel_launcher.py:1: DeprecationWarning: count is deprecated. Use estimated_document_count or count_documents instead. Please note that $where must be replaced by $expr, $near must be replaced by $geoWithin with $center, and $nearSphere must be replaced by $geoWithin with $centerSphere\n",
      "  \"\"\"Entry point for launching an IPython kernel.\n"
     ]
    },
    {
     "data": {
      "text/plain": [
       "399"
      ]
     },
     "execution_count": 388,
     "metadata": {},
     "output_type": "execute_result"
    }
   ],
   "source": [
    "db.ninetynine.count()"
   ]
  },
  {
   "cell_type": "code",
   "execution_count": null,
   "metadata": {},
   "outputs": [],
   "source": []
  },
  {
   "cell_type": "code",
   "execution_count": null,
   "metadata": {},
   "outputs": [],
   "source": []
  },
  {
   "cell_type": "code",
   "execution_count": null,
   "metadata": {},
   "outputs": [],
   "source": []
  },
  {
   "cell_type": "code",
   "execution_count": null,
   "metadata": {},
   "outputs": [],
   "source": []
  },
  {
   "cell_type": "markdown",
   "metadata": {},
   "source": [
    "# Rescrape website to break sections"
   ]
  },
  {
   "cell_type": "markdown",
   "metadata": {},
   "source": [
    "I descided to rescape the transcripts. The transcript section for each podcast is broken up into sections with references to who is speaking. This function catalogs the transcript into a dictionary with the speaker as the key."
   ]
  },
  {
   "cell_type": "code",
   "execution_count": 101,
   "metadata": {},
   "outputs": [],
   "source": [
    "def catalog_transcript(tag):\n",
    "    section_dict = dict()\n",
    "    section = tag.text.split('\\n')\n",
    "    if len(section) > 1:\n",
    "        if section[0].find(':') >= 0 or section[0].find('[') >= 0:\n",
    "            section_dict['speaker'] = section[0].strip(':')\n",
    "            section_dict['text'] = ' '.join(section[1:])\n",
    "        else:\n",
    "            section_dict['speaker'] = '[Clip]'\n",
    "            section_dict['text'] = ' '.join(section)\n",
    "    else:\n",
    "        section_dict['speaker'] = section[0]\n",
    "    return section_dict"
   ]
  },
  {
   "cell_type": "code",
   "execution_count": 118,
   "metadata": {},
   "outputs": [],
   "source": [
    "#failed_urls = []\n",
    "#ninetynine = []"
   ]
  },
  {
   "cell_type": "code",
   "execution_count": 119,
   "metadata": {},
   "outputs": [
    {
     "name": "stdout",
     "output_type": "stream",
     "text": [
      "200:0 whomst-among-us-let-the-dogs-out\n",
      "200:1 missing-the-bus\n",
      "200:2 the-worst-video-game-ever\n",
      "200:3 their-dark-materials\n",
      "200:4 shade\n",
      "200:5 mini-stories-volume-8\n",
      "200:6 mini-stories-volume-7\n",
      "200:7 the-eliza-effect\n",
      "200:8 the-infantorium\n",
      "200:9 mannequin-pixie-dream-girl\n",
      "200:10 cautionary-tales\n",
      "200:11 ubiquitous-icons-peace-power-and-happiness\n",
      "200:12 how-to-pick-a-pepper\n",
      "200:13 great-bitter-lake-association\n",
      "200:14 audio-guide-to-the-imperfections-of-a-perfect-masterpiece\n",
      "200:15 unsure-footing\n",
      "200:16 the-kirkbride-plan\n",
      "200:17 the-help-yourself-city\n",
      "200:18 dead-cars\n",
      "200:19 the-pool-and-the-stream-redux\n",
      "200:20 wait-wait-tell-me\n",
      "200:21 all-rings-considered\n",
      "200:22 peace-lines\n",
      "200:23 model-city\n",
      "200:24 on-beeing\n",
      "200:25 hes-still-neutral\n",
      "200:26 invisible-women\n",
      "200:27 goodness-gracious-great-balls-of-twine\n",
      "200:28 built-on-sand\n",
      "200:29 the-universal-page\n",
      "200:30 singapore\n",
      "200:31 the-anthropocene-reviewed\n",
      "200:32 the-barney-design-redux\n",
      "200:33 the-automat\n",
      "200:34 depave-paradise\n",
      "200:35 sound-and-health-hospitals\n",
      "200:36 la-sagrada-familia-2\n",
      "200:37 sound-and-health-cities\n",
      "200:38 weeding-is-fundamental\n",
      "200:39 from-bombay-with-love\n",
      "200:40 uptown-squirrel\n",
      "200:41 play-mountain\n",
      "200:42 the-roman-mars-mazda-virus\n",
      "200:43 froebels-gifts\n",
      "200:44 three-things-that-made-the-modern-economy\n",
      "200:45 the-many-deaths-of-a-painting\n",
      "200:46 palaces-for-the-people\n",
      "200:47 classic-cartoon-sound-effects\n",
      "200:48 the-known-unknown\n",
      "200:49 usonia\n",
      "200:50 beneath-the-ballpark\n",
      "200:51 national-sword\n",
      "200:52 the-secret-lives-of-color\n",
      "200:53 the-tunnel\n",
      "200:54 crude-habitat\n",
      "200:55 atomic-tattoos\n",
      "200:56 mini-stories-volume-6\n",
      "200:57 gathering-the-magic\n",
      "200:58 christmasallusionist\n",
      "200:59 mini-stories-volume-5\n",
      "200:60 the-accidental-room\n",
      "200:61 onates-foot\n",
      "200:62 raccoon-resistance\n",
      "200:63 the-green-book-redux\n",
      "Failed the-green-book-redux\n",
      "200:64 orphan-drugs\n",
      "200:65 devolutionary-design\n",
      "200:66 a-year-in-the-dark\n",
      "200:67 welcome-to-jurassic-art\n",
      "200:68 the-worst-way-to-start-a-city\n",
      "200:69 punk-style-articles-of-interest-6\n",
      "200:70 blue-jeans-articles-of-interest-5\n",
      "200:71 hawaiian-shirts-articles-of-interest-4\n",
      "200:72 pockets-articles-of-interest-3\n",
      "200:73 plaid-articles-of-interest-2\n",
      "200:74 kids-clothes-articles-of-interest-1\n",
      "200:75 billboard-boys-the-greatest-radio-contest-of-all-time\n",
      "200:76 the-house-that-came-in-the-mail\n",
      "200:77 the-first-straw\n",
      "200:78 double-standards\n",
      "200:79 bundyville\n",
      "200:80 its-chinatown\n",
      "200:81 fire-and-rain\n",
      "200:82 built-to-burn\n",
      "200:83 the-shipping-forecast\n",
      "200:84 everything-is-alive\n",
      "200:85 interrobang\n",
      "200:86 right-to-roam\n",
      "200:87 post-narco-urbanism\n",
      "200:88 the-barney-design\n",
      "200:89 77-steps\n",
      "200:90 the-vault\n",
      "200:91 curb-cuts\n",
      "200:92 immobile-homes\n",
      "200:93 breaking-bad-news\n",
      "200:94 the-laff-box\n",
      "200:95 gander-international-airport\n",
      "200:96 the-hair-chart\n",
      "200:97 lessons-from-las-vegas\n",
      "200:98 making-it-rain\n",
      "200:99 airships-future-never\n",
      "200:100 gerrymandering\n",
      "Failed gerrymandering\n",
      "200:101 miss-manhattan-r\n",
      "200:102 fordlandia\n",
      "200:103 blood-sweat-tears-city-future-part-2\n",
      "200:104 bijlmer-city-future-part-1\n",
      "200:105 making-mark-visual-identity-tom-geismar\n",
      "200:106 border-wall\n",
      "200:107 managed-retreat\n",
      "200:108 speech-bubbles-understanding-comics-scott-mccloud\n",
      "200:109 thermal-delight\n",
      "200:110 mini-stories-volume-4\n",
      "200:111 mini-stories-volume-3\n",
      "200:112 guerrilla-public-service\n",
      "200:113 nut-behind-wheel\n",
      "200:114 700-foot-mountain-whipped-cream\n",
      "200:115 money-makers\n",
      "200:116 hero-props-graphic-design-film-television\n",
      "200:117 dollhouses-st-louis\n",
      "200:118 oyster-tecture\n",
      "200:119 la-sagrada-familia\n",
      "200:120 half-measures\n",
      "200:121 the-containment-plan\n",
      "Failed the-containment-plan\n",
      "200:122 the-athletic-brassiere\n",
      "200:123 ponte-city-tower\n",
      "200:124 the-finnish-experiment\n",
      "200:125 coal-hogs-work-safe\n",
      "200:126 the-age-of-the-algorithm\n",
      "200:127 notes-imagined-plaque\n",
      "200:128 person-lotus-position\n",
      "200:129 great-dismal-swamp\n",
      "200:130 the-stethoscope\n",
      "200:131 ways-of-hearing\n",
      "200:132 el-gordo\n",
      "200:133 trials-dan-dave\n",
      "200:134 repackaging-the-pill\n",
      "200:135 the-pool-and-the-stream\n",
      "200:136 mexico-68\n",
      "200:137 you-should-do-a-story\n",
      "200:138 in-the-same-ballpark\n",
      "200:139 yin-yang-basketball\n",
      "200:140 squatters-lower-east-side\n",
      "200:141 new-jersey\n",
      "200:142 chance-anchorwoman-great-alaska-earthquake\n",
      "200:143 the-modern-necropolis\n",
      "200:144 reversing-the-grid\n",
      "200:145 sounds-natural\n",
      "200:146 the-architect-of-hollywood\n",
      "200:147 containers-ships-tugs-port\n",
      "200:148 manzanar\n",
      "200:149 the-falling-of-the-lenins\n",
      "200:150 negative-space-logo-design-michael-bierut\n",
      "200:151 state-sanctuary-part-2\n",
      "200:152 church-sanctuary-part-1\n",
      "200:153 atom-garden-eden\n",
      "200:154 usonia-the-beautiful\n",
      "200:155 usonia-1\n",
      "200:156 the-eponymist\n",
      "200:157 the-revolutionary-post\n",
      "200:158 tom-swift-electric-rifle\n",
      "200:159 mini-stories-volume-2\n",
      "200:160 mini-stories-volume-1\n",
      "200:161 plat-of-zion\n",
      "200:162 guano-mania\n",
      "200:163 nbc-chimes-behind-scenes-first-trademarked-sound\n",
      "200:164 dollar-store-town-inside-worlds-biggest-wholesale-market\n",
      "200:165 reverb-evolution-architectural-acoustics\n",
      "200:166 ten-letters-president\n",
      "200:167 shift-redesigning-baseballs-defense\n",
      "200:168 space-trash-space-treasure\n",
      "200:169 mcmansion-hell-devil-details\n",
      "200:170 half-a-house\n",
      "200:171 project-cybersyn\n",
      "200:172 the-trend-forecast\n",
      "200:173 making-up-ground\n",
      "200:174 public-works-rethinking-americas-transportation-infrastructure\n",
      "200:175 on-average\n",
      "200:176 photo-credit-negatives-bauhaus\n",
      "200:177 sea-worth-salt\n",
      "200:178 magic-bureaucrat-riverside-miracle\n",
      "200:179 combat-hearing-loss\n",
      "200:180 americas-last-top-model\n",
      "200:181 the-mind-of-an-architect\n",
      "200:182 unpleasant-design-hostile-urban-architecture\n",
      "200:183 remembering-stonewall\n",
      "200:184 home-on-lagrange\n",
      "200:185 the-blazer-experiment\n",
      "200:186 h-day\n",
      "200:187 loud-and-clear\n",
      "200:188 separation-anxiety\n",
      "200:189 turf-wars\n",
      "200:190 the-grand-dame-of-broad-street\n",
      "200:191 unseen-city-wonders-urban-wilderness\n",
      "200:192 supertall-101\n",
      "200:193 vox-ex-machina\n",
      "200:194 soul-city\n",
      "200:195 stop-that-bus\n",
      "200:196 flying-food\n",
      "200:197 the-soho-effect\n",
      "200:198 the-giftschrank\n",
      "200:199 mojave-phone-booth\n",
      "200:200 the-green-book\n",
      "200:201 miss-manhattan\n",
      "200:202 frozen-assets\n",
      "200:203 fish-cannon\n",
      "200:204 the-fresno-drop\n",
      "200:205 best-enjoyed-by\n",
      "200:206 bone-music\n",
      "200:207 tube-benders\n",
      "200:208 pagodas-dragon-gates\n",
      "200:209 worst-smell-in-the-world\n",
      "200:210 fixing-the-hobo-suit\n",
      "200:211 the-landlords-game\n",
      "200:212 fountain-drinks\n",
      "200:213 butterfly-effects\n",
      "200:214 war-and-pizza\n",
      "200:215 atmospherians\n",
      "200:216 structural-integrity-2\n",
      "200:217 rajneeshpuram\n",
      "200:218 dead-letter-office\n",
      "200:219 a-sweet-surprise-awaits-you\n",
      "200:220 milk-carton-kids\n",
      "200:221 reefer-madness\n",
      "200:222 bathysphere\n",
      "200:223 the-great-restoration\n",
      "200:224 lawn-order\n",
      "200:225 hard-to-love-a-brute\n",
      "200:226 the-sunshine-hotel\n",
      "200:227 from-the-sea-freedom\n",
      "200:228 awareness\n",
      "200:229 on-location\n",
      "200:230 johnnycab-automation-paradox-pt-2\n",
      "200:231 children-of-the-magenta-automation-paradox-pt-1\n",
      "200:232 freuds-couch\n",
      "200:233 all-in-your-head\n",
      "200:234 voices-in-the-wire\n",
      "200:235 viva-la-arquitectura\n",
      "200:236 the-nutshell-studies\n",
      "Failed the-nutshell-studies\n",
      "200:237 the-post-billiards-age\n",
      "200:238 the-gruen-effect\n",
      "200:239 mystery-house\n",
      "200:240 show-of-force\n",
      "200:241 perfect-security\n",
      "200:242 the-calendar\n",
      "200:243 sandhogs\n",
      "200:244 the-colour-of-money-r\n",
      "200:245 devils-rope\n",
      "200:246 coin-check\n",
      "200:247 palm-reading\n",
      "200:248 pdx-carpet\n",
      "200:249 game-over\n",
      "200:250 la-mascotte\n",
      "200:251 under-the-moonlight\n",
      "200:252 of-mice-and-men\n",
      "200:253 the-sizzle\n",
      "200:254 penn-station-sucks\n",
      "200:255 mooallempalooza\n",
      "Failed mooallempalooza\n",
      "200:256 octothorpe\n",
      "200:257 there-is-a-light-that-never-goes-out\n",
      "200:258 inflatable-men\n",
      "200:259 and-the-winner-is\n",
      "200:260 three-records-from-sundown\n",
      "Failed three-records-from-sundown\n",
      "200:261 vexillonaire\n",
      "200:262 edge-of-your-seat\n",
      "200:263 o-u-i-j-a\n",
      "200:264 good-bread\n",
      "200:265 lights-out\n",
      "200:266 for-amusement-only\n",
      "200:267 the-straight-line-is-a-godless-line\n",
      "200:268 port-of-dallas\n",
      "200:269 castle-on-the-park\n",
      "200:270 genesis-object\n",
      "200:271 holdout\n",
      "200:272 thomassons\n",
      "200:273 hacking-ikea\n",
      "200:274 the-sound-of-sports\n",
      "200:275 walk-this-way\n",
      "200:276 duplitecture\n",
      "200:277 longbox\n",
      "200:278 snowflake\n",
      "200:279 good-egress\n",
      "200:280 cold-war-kids\n",
      "200:281 skyjacking\n",
      "200:282 feet-of-engineering\n",
      "200:283 song-exploder\n",
      "200:284 clean-trains\n",
      "200:285 breaking-the-bank\n",
      "200:286 cow-tunnels\n",
      "200:287 ten-thousand-years\n",
      "200:288 monumental-dilemma\n",
      "200:289 young-ruin\n"
     ]
    },
    {
     "name": "stdout",
     "output_type": "stream",
     "text": [
      "200:290 masters-of-the-uni-verse\n",
      "200:291 structural-integrity\n",
      "200:292 title-tk\n",
      "200:293 barcodes\n",
      "200:294 call-now\n",
      "200:295 the-fancy-shape\n",
      "200:296 one-man-is-an-island\n",
      "200:297 tunnel-57\n",
      "200:298 u-t-b-a-p-h\n",
      "200:299 icon-for-access\n",
      "200:300 cover-story\n",
      "200:301 higher-and-higher\n",
      "200:302 the-view-from-the-79th-floor\n",
      "200:303 six-stories\n",
      "200:304 numbers-stations\n",
      "200:305 diy-space-suits\n",
      "200:306 future-screens-are-mostly-blue\n",
      "200:307 unbuilt\n",
      "200:308 revolving-doors\n",
      "200:309 all-the-buildings\n",
      "200:310 kickstarter-announcement-always-read-the-plaque\n",
      "Failed kickstarter-announcement-always-read-the-plaque\n",
      "200:311 wild-ones-live\n",
      "200:312 strowger-switch-purple-reign-redux\n",
      "200:313 bubble-houses\n",
      "200:314 the-broadcast-clock\n",
      "200:315 episode-87-i-heart-ny-tm\n",
      "200:316 episode-86-reversal-of-fortune\n",
      "200:317 episode-85-noble-effort\n",
      "200:318 episode-84-ladislav-sutnar-trading-places-with\n",
      "200:319 episode-83-heyoon\n",
      "200:320 episode-82-the-man-of-tomorrow\n",
      "200:321 episode-81-rebar-and-the-alvord-lake-bridge\n",
      "200:322 episode-80-an-architects-code\n",
      "200:323 episode-79-symphony-of-sirens-revisited\n",
      "200:324 episode-78-no-armed-bandit\n",
      "200:325 episode-77-game-changer\n",
      "200:326 episode-76-the-modern-moloch\n",
      "200:327 episode-75-secret-staircases\n",
      "200:328 episode-74-hand-painted-signs\n",
      "200:329 episode-73-the-zanzibar-and-other-building-poems\n",
      "200:330 episode-72-new-old-town\n",
      "200:331 episode-71-in-and-out-of-love\n",
      "200:332 episode-70-the-great-red-car-conspiracy\n",
      "200:333 episode-69-the-brief-and-tumultuous-life-of-the-new-uc\n",
      "200:334 episode-68-built-for-speed\n",
      "200:335 episode-67-broken-window\n",
      "200:336 episode-66-kowloon-walled-city\n",
      "200:337 episode-65-razzle-dazzle\n",
      "200:338 episode-64-derelict-dome\n",
      "200:339 episode-63-the-political-stage\n",
      "200:340 episode-62-q2\n",
      "200:341 episode-61-a-series-of-tubes\n",
      "200:342 episode-60b-backstory-heyward-shepherd-memorial\n",
      "200:343 episode-60a-two-storeys-language-bites-and-the-memory\n",
      "200:344 episode-60-names-vs-the-nothing\n",
      "200:345 episode-59-some-other-sign-that-people-do-not-totally\n",
      "200:346 episode-58-purple-reign\n",
      "200:347 episode-57-what-gave-you-that-idea\n",
      "200:348 episode-56-frozen-music\n",
      "200:349 episode-55-the-best-beer-in-the-world\n",
      "200:350 episode-54-the-colour-of-money\n",
      "200:351 episode-53-the-xanadu-effect\n",
      "200:352 episode-52-galloping-gertie\n",
      "200:353 episode-51-the-arsenal-of-exclusion\n",
      "200:354 episode-50-deafspace\n",
      "200:355 episode-49-queue-theory-and-design\n",
      "200:356 episode-48-the-bathtubs-or-the-boiler-room\n",
      "200:357 episode-47-us-postal-service-stamps\n",
      "200:358 episode-46-vulcanite-dentures-or-when-patent\n",
      "200:359 episode-45-beauty-pill-immersive-ideal\n",
      "200:360 episode-44-the-pruitt-igoe-myth\n",
      "200:361 episode-43-the-accidental-music-of-imperfect\n",
      "200:362 episode-42-recognizably-anonymous\n",
      "200:363 episode-41-the-human-human-interface\n",
      "200:364 episode-40-billy-possum\n",
      "200:365 episode-39x-the-biography-of-100-000-square-feet\n",
      "200:366 episode-39-the-darth-vader-family-courthouse\n",
      "200:367 episode-38-the-sound-of-sport\n",
      "200:368 episode-37-the-steering-wheel\n",
      "200:369 episode-36-super-bon-bonn\n",
      "200:370 episode-35-elegy-for-wtc\n",
      "200:371 episode-34-building-pyramids\n",
      "200:372 episode-33-a-cheer-for-samuel-plimsoll\n",
      "200:373 episode-32-design-for-airports\n",
      "200:374 episode-31-the-feltron-annual-report\n",
      "200:375 episode-30-the-blue-yarn-download-embed-share\n",
      "200:376 episode-29-cul-de-sac-download-embed-share\n",
      "200:377 episode-28-movie-title-sequences-download\n",
      "200:378 episode-27-bridge-to-the-sky-download-embed\n",
      "200:379 episode-26-the-mcc-chicagos-jailhouse\n",
      "200:380 episode-25-unsung-icons-of-soviet-design\n",
      "200:381 episode-24-the-two-fates-of-the-old-east-portico\n",
      "200:382 episode-23-you-are-listening-to\n",
      "200:383 episode-22-the-invisible-monument-to-free-speech\n",
      "200:384 episode-21-bldgblog-on-sound\n",
      "200:385 episode-20-nikko-concrete-commando\n",
      "200:386 99-invisible-extra-episode-19x-rjdj-reactive\n",
      "200:387 episode-19-liberation-squares-ny-dick\n",
      "200:388 episode-18-check-cashing-stores-download-embed\n",
      "200:389 episode-17-concrete-furniture\n",
      "200:390 episode-16-a-designed-language-download-embed\n",
      "200:391 episode-15-the-sound-of-the-artificial-world\n",
      "200:392 episode-14-the-periodic-table-infographic\n",
      "200:393 episode-13-maps-they-dont-love-you-like-i-love\n",
      "200:394 episode-12-99-guilt-free\n",
      "200:395 episode-11-99-undesigned-but-still-evil\n",
      "200:396 episode-10-99-sound-and-feel\n",
      "200:397 episode-09-99-private\n",
      "200:398 9x-one-way-ticket-to-mars\n",
      "200:399 episode-08-99-free-parking\n",
      "200:400 episode-07-99-alien\n",
      "200:401 episode-06-99-symbolic\n",
      "200:402 episode-05-99-forgotten\n",
      "200:403 download-embed-share-episode-04-99\n",
      "200:404 download-embed-share-episode-03-99-reality\n",
      "200:405 02-99-180\n",
      "200:406 99-invisible-01-99-noise-by-roman-mars-this\n"
     ]
    }
   ],
   "source": [
    "start = 0\n",
    "for i, url in enumerate(episode_urls[start:]):\n",
    "    try:\n",
    "        response = requests.get(url+'transcript')\n",
    "        print(f\"{response.status_code}:{i+start} {url.split('/')[-2]}\")\n",
    "        soup = BeautifulSoup(response.text)\n",
    "    \n",
    "        episode = dict()\n",
    "        episode['episode_number'] = soup.find('h4').text\n",
    "        episode['title'] = soup.find('h1').text\n",
    "        details = soup.find_all(class_=\"meta-value\")\n",
    "        episode['category'] = details[0].text\n",
    "        episode['date'] = details[1].text\n",
    "        episode['producer'] = details[2].text\n",
    "        episode['url'] = url\n",
    "\n",
    "        transcript = soup.find(class_=\"page-content transcript-content\")\n",
    "        section_list = transcript.find_all('p')\n",
    "        episode['content'] = list(map(catalog_transcript, section_list))\n",
    "        \n",
    "        ninetynine.append(episode)      \n",
    "    except:\n",
    "        failed_urls.append(url)\n",
    "        print(f\"Failed {url.split('/')[-2]}\")\n",
    "          \n",
    "    time.sleep(1)"
   ]
  },
  {
   "cell_type": "code",
   "execution_count": 121,
   "metadata": {
    "scrolled": true
   },
   "outputs": [
    {
     "data": {
      "text/plain": [
       "400"
      ]
     },
     "execution_count": 121,
     "metadata": {},
     "output_type": "execute_result"
    }
   ],
   "source": [
    "len(ninetynine)"
   ]
  },
  {
   "cell_type": "code",
   "execution_count": 123,
   "metadata": {},
   "outputs": [
    {
     "data": {
      "text/plain": [
       "['https://99percentinvisible.org/episode/the-green-book-redux/',\n",
       " 'https://99percentinvisible.org/episode/gerrymandering/',\n",
       " 'https://99percentinvisible.org/episode/the-containment-plan/',\n",
       " 'https://99percentinvisible.org/episode/the-nutshell-studies/',\n",
       " 'https://99percentinvisible.org/episode/mooallempalooza/',\n",
       " 'https://99percentinvisible.org/episode/three-records-from-sundown/',\n",
       " 'https://99percentinvisible.org/episode/kickstarter-announcement-always-read-the-plaque/']"
      ]
     },
     "execution_count": 123,
     "metadata": {},
     "output_type": "execute_result"
    }
   ],
   "source": [
    "failed_urls"
   ]
  },
  {
   "cell_type": "markdown",
   "metadata": {},
   "source": [
    "**Without transcripts**\n",
    "* the-green-book-redux\n",
    "* gerrymandering\n",
    "* the-containment-plan\n",
    "* the-nutshell-studies\n",
    "* mooallempalooza\n",
    "* three-records-from-sundown\n",
    "* kickstarter-announcement-always-read-the-plaque\n"
   ]
  },
  {
   "cell_type": "markdown",
   "metadata": {},
   "source": [
    "I ended up using my original scraped data and processing it. The syntax for the html changed as the podcast progressed. It was easier to process the transcript in python."
   ]
  },
  {
   "cell_type": "markdown",
   "metadata": {},
   "source": [
    "# MongoDB upload again"
   ]
  },
  {
   "cell_type": "code",
   "execution_count": 132,
   "metadata": {},
   "outputs": [],
   "source": [
    "host = os.getenv('host')\n",
    "pwd = os.getenv('mongo_pwd')"
   ]
  },
  {
   "cell_type": "code",
   "execution_count": 133,
   "metadata": {},
   "outputs": [],
   "source": [
    "config = {\n",
    "  'host': host+':27017',\n",
    "  'username': 'mongo_user',\n",
    "  'password': pwd,\n",
    "  'authSource': 'proj4'\n",
    "}"
   ]
  },
  {
   "cell_type": "code",
   "execution_count": 134,
   "metadata": {},
   "outputs": [],
   "source": [
    "client = MongoClient(**config)"
   ]
  },
  {
   "cell_type": "code",
   "execution_count": 135,
   "metadata": {},
   "outputs": [
    {
     "data": {
      "text/plain": [
       "['proj4']"
      ]
     },
     "execution_count": 135,
     "metadata": {},
     "output_type": "execute_result"
    }
   ],
   "source": [
    "client.list_database_names()"
   ]
  },
  {
   "cell_type": "code",
   "execution_count": 136,
   "metadata": {},
   "outputs": [],
   "source": [
    "db = client.proj4"
   ]
  },
  {
   "cell_type": "code",
   "execution_count": 137,
   "metadata": {},
   "outputs": [
    {
     "data": {
      "text/plain": [
       "['ninetynine']"
      ]
     },
     "execution_count": 137,
     "metadata": {},
     "output_type": "execute_result"
    }
   ],
   "source": [
    "db.list_collection_names()"
   ]
  },
  {
   "cell_type": "code",
   "execution_count": 138,
   "metadata": {},
   "outputs": [
    {
     "data": {
      "text/plain": [
       "Collection(Database(MongoClient(host=['18.188.33.59:27017'], document_class=dict, tz_aware=False, connect=True, authsource='proj4'), 'proj4'), 'invisible')"
      ]
     },
     "execution_count": 138,
     "metadata": {},
     "output_type": "execute_result"
    }
   ],
   "source": [
    "db.create_collection('invisible')"
   ]
  },
  {
   "cell_type": "code",
   "execution_count": 140,
   "metadata": {},
   "outputs": [
    {
     "data": {
      "text/plain": [
       "['invisible', 'ninetynine']"
      ]
     },
     "execution_count": 140,
     "metadata": {},
     "output_type": "execute_result"
    }
   ],
   "source": [
    "db.list_collection_names()"
   ]
  },
  {
   "cell_type": "code",
   "execution_count": 142,
   "metadata": {},
   "outputs": [
    {
     "data": {
      "text/plain": [
       "<pymongo.results.InsertManyResult at 0x111fe88c0>"
      ]
     },
     "execution_count": 142,
     "metadata": {},
     "output_type": "execute_result"
    }
   ],
   "source": [
    "db.invisible.insert_many(ninetynine)"
   ]
  },
  {
   "cell_type": "code",
   "execution_count": 143,
   "metadata": {
    "scrolled": true
   },
   "outputs": [
    {
     "name": "stderr",
     "output_type": "stream",
     "text": [
      "/Users/nkfoster/opt/anaconda3/envs/metis/lib/python3.7/site-packages/ipykernel_launcher.py:1: DeprecationWarning: count is deprecated. Use estimated_document_count or count_documents instead. Please note that $where must be replaced by $expr, $near must be replaced by $geoWithin with $center, and $nearSphere must be replaced by $geoWithin with $centerSphere\n",
      "  \"\"\"Entry point for launching an IPython kernel.\n"
     ]
    },
    {
     "data": {
      "text/plain": [
       "400"
      ]
     },
     "execution_count": 143,
     "metadata": {},
     "output_type": "execute_result"
    }
   ],
   "source": [
    "db.invisible.count()"
   ]
  },
  {
   "cell_type": "code",
   "execution_count": null,
   "metadata": {},
   "outputs": [],
   "source": []
  },
  {
   "cell_type": "markdown",
   "metadata": {},
   "source": [
    "# pickle db again"
   ]
  },
  {
   "cell_type": "code",
   "execution_count": 144,
   "metadata": {},
   "outputs": [],
   "source": [
    "pickle.dump(ninetynine, open('invisible.p','wb'))"
   ]
  },
  {
   "cell_type": "code",
   "execution_count": null,
   "metadata": {},
   "outputs": [],
   "source": []
  },
  {
   "cell_type": "code",
   "execution_count": null,
   "metadata": {},
   "outputs": [],
   "source": []
  },
  {
   "cell_type": "code",
   "execution_count": 145,
   "metadata": {
    "scrolled": true
   },
   "outputs": [
    {
     "name": "stdout",
     "output_type": "stream",
     "text": [
      "Episode 389 https://99percentinvisible.org/episode/whomst-among-us-let-the-dogs-out/\n",
      "Episode 388 https://99percentinvisible.org/episode/missing-the-bus/\n",
      "Episode 387 https://99percentinvisible.org/episode/the-worst-video-game-ever/\n",
      "Episode 386 https://99percentinvisible.org/episode/their-dark-materials/\n",
      "Episode 385 https://99percentinvisible.org/episode/shade/\n",
      "Episode 384 https://99percentinvisible.org/episode/mini-stories-volume-8/\n",
      "Episode 383 https://99percentinvisible.org/episode/mini-stories-volume-7/\n",
      "Episode 382 https://99percentinvisible.org/episode/the-eliza-effect/\n",
      "Episode 381 https://99percentinvisible.org/episode/the-infantorium/\n",
      "Episode 380 https://99percentinvisible.org/episode/mannequin-pixie-dream-girl/\n",
      "Episode 379 https://99percentinvisible.org/episode/cautionary-tales/\n",
      "Episode 378 https://99percentinvisible.org/episode/ubiquitous-icons-peace-power-and-happiness/\n",
      "Episode 377 https://99percentinvisible.org/episode/how-to-pick-a-pepper/\n",
      "Episode 376 https://99percentinvisible.org/episode/great-bitter-lake-association/\n",
      "Episode 375 https://99percentinvisible.org/episode/audio-guide-to-the-imperfections-of-a-perfect-masterpiece/\n",
      "Episode 374 https://99percentinvisible.org/episode/unsure-footing/\n",
      "Episode 373 https://99percentinvisible.org/episode/the-kirkbride-plan/\n",
      "Episode 372 https://99percentinvisible.org/episode/the-help-yourself-city/\n",
      "Episode 371 https://99percentinvisible.org/episode/dead-cars/\n",
      "Episode 370 https://99percentinvisible.org/episode/the-pool-and-the-stream-redux/\n",
      "Episode 369 https://99percentinvisible.org/episode/wait-wait-tell-me/\n",
      "Episode 368 https://99percentinvisible.org/episode/all-rings-considered/\n",
      "Episode 367 https://99percentinvisible.org/episode/peace-lines/\n",
      "Episode 366 https://99percentinvisible.org/episode/model-city/\n",
      "Episode 365 https://99percentinvisible.org/episode/on-beeing/\n",
      "Episode 364 https://99percentinvisible.org/episode/hes-still-neutral/\n",
      "Episode 363 https://99percentinvisible.org/episode/invisible-women/\n",
      "Episode 362 https://99percentinvisible.org/episode/goodness-gracious-great-balls-of-twine/\n",
      "Episode 361 https://99percentinvisible.org/episode/built-on-sand/\n",
      "Episode 360 https://99percentinvisible.org/episode/the-universal-page/\n",
      "Episode 359 https://99percentinvisible.org/episode/singapore/\n",
      "Episode 358 https://99percentinvisible.org/episode/the-anthropocene-reviewed/\n",
      "Episode 357 https://99percentinvisible.org/episode/the-barney-design-redux/\n",
      "Episode 356 https://99percentinvisible.org/episode/the-automat/\n",
      "Episode 355 https://99percentinvisible.org/episode/depave-paradise/\n",
      "Episode  https://99percentinvisible.org/episode/sound-and-health-hospitals/\n",
      "Episode 281 https://99percentinvisible.org/episode/la-sagrada-familia-2/\n",
      "Episode  https://99percentinvisible.org/episode/sound-and-health-cities/\n",
      "Episode 354 https://99percentinvisible.org/episode/weeding-is-fundamental/\n",
      "Episode 353 https://99percentinvisible.org/episode/from-bombay-with-love/\n",
      "Episode 352 https://99percentinvisible.org/episode/uptown-squirrel/\n",
      "Episode 351 https://99percentinvisible.org/episode/play-mountain/\n",
      "Episode 350 https://99percentinvisible.org/episode/the-roman-mars-mazda-virus/\n",
      "Episode 349 https://99percentinvisible.org/episode/froebels-gifts/\n",
      "Episode 348 https://99percentinvisible.org/episode/three-things-that-made-the-modern-economy/\n",
      "Episode 347 https://99percentinvisible.org/episode/the-many-deaths-of-a-painting/\n",
      "Episode 346 https://99percentinvisible.org/episode/palaces-for-the-people/\n",
      "Episode 345 https://99percentinvisible.org/episode/classic-cartoon-sound-effects/\n",
      "Episode 344 https://99percentinvisible.org/episode/the-known-unknown/\n",
      "Episode 343 https://99percentinvisible.org/episode/usonia/\n",
      "Episode 342 https://99percentinvisible.org/episode/beneath-the-ballpark/\n",
      "Episode 341 https://99percentinvisible.org/episode/national-sword/\n",
      "Episode 340 https://99percentinvisible.org/episode/the-secret-lives-of-color/\n",
      "Episode 339 https://99percentinvisible.org/episode/the-tunnel/\n",
      "Episode 338 https://99percentinvisible.org/episode/crude-habitat/\n",
      "Episode 337 https://99percentinvisible.org/episode/atomic-tattoos/\n",
      "Episode 336 https://99percentinvisible.org/episode/mini-stories-volume-6/\n",
      "Episode 335 https://99percentinvisible.org/episode/gathering-the-magic/\n",
      "Episode 334 https://99percentinvisible.org/episode/christmasallusionist/\n",
      "Episode 333 https://99percentinvisible.org/episode/mini-stories-volume-5/\n",
      "Episode 332 https://99percentinvisible.org/episode/the-accidental-room/\n",
      "Episode 331 https://99percentinvisible.org/episode/onates-foot/\n",
      "Episode 330 https://99percentinvisible.org/episode/raccoon-resistance/\n",
      "Episode 329 https://99percentinvisible.org/episode/orphan-drugs/\n",
      "Episode 328 https://99percentinvisible.org/episode/devolutionary-design/\n",
      "Episode 327 https://99percentinvisible.org/episode/a-year-in-the-dark/\n",
      "Episode 326 https://99percentinvisible.org/episode/welcome-to-jurassic-art/\n",
      "Episode 325 https://99percentinvisible.org/episode/the-worst-way-to-start-a-city/\n",
      "Episode  https://99percentinvisible.org/episode/punk-style-articles-of-interest-6/\n",
      "Episode  https://99percentinvisible.org/episode/blue-jeans-articles-of-interest-5/\n",
      "Episode  https://99percentinvisible.org/episode/hawaiian-shirts-articles-of-interest-4/\n",
      "Episode  https://99percentinvisible.org/episode/pockets-articles-of-interest-3/\n",
      "Episode  https://99percentinvisible.org/episode/plaid-articles-of-interest-2/\n",
      "Episode  https://99percentinvisible.org/episode/kids-clothes-articles-of-interest-1/\n",
      "Episode 324 https://99percentinvisible.org/episode/billboard-boys-the-greatest-radio-contest-of-all-time/\n",
      "Episode 323 https://99percentinvisible.org/episode/the-house-that-came-in-the-mail/\n",
      "Episode 322 https://99percentinvisible.org/episode/the-first-straw/\n",
      "Episode 321 https://99percentinvisible.org/episode/double-standards/\n",
      "Episode 320 https://99percentinvisible.org/episode/bundyville/\n",
      "Episode 319 https://99percentinvisible.org/episode/its-chinatown/\n",
      "Episode 318 https://99percentinvisible.org/episode/fire-and-rain/\n",
      "Episode 317 https://99percentinvisible.org/episode/built-to-burn/\n",
      "Episode 316 https://99percentinvisible.org/episode/the-shipping-forecast/\n",
      "Episode 315 https://99percentinvisible.org/episode/everything-is-alive/\n",
      "Episode 314 https://99percentinvisible.org/episode/interrobang/\n",
      "Episode 313 https://99percentinvisible.org/episode/right-to-roam/\n",
      "Episode 312 https://99percentinvisible.org/episode/post-narco-urbanism/\n",
      "Episode 311 https://99percentinvisible.org/episode/the-barney-design/\n",
      "Episode 310 https://99percentinvisible.org/episode/77-steps/\n",
      "Episode 309 https://99percentinvisible.org/episode/the-vault/\n",
      "Episode 308 https://99percentinvisible.org/episode/curb-cuts/\n",
      "Episode 307 https://99percentinvisible.org/episode/immobile-homes/\n",
      "Episode 306 https://99percentinvisible.org/episode/breaking-bad-news/\n",
      "Episode 305 https://99percentinvisible.org/episode/the-laff-box/\n",
      "Episode 304 https://99percentinvisible.org/episode/gander-international-airport/\n",
      "Episode 303 https://99percentinvisible.org/episode/the-hair-chart/\n",
      "Episode 302 https://99percentinvisible.org/episode/lessons-from-las-vegas/\n",
      "Episode 301 https://99percentinvisible.org/episode/making-it-rain/\n",
      "Episode 300 https://99percentinvisible.org/episode/airships-future-never/\n",
      "Episode 200 https://99percentinvisible.org/episode/miss-manhattan-r/\n",
      "Episode 298 https://99percentinvisible.org/episode/fordlandia/\n",
      "Episode 297 https://99percentinvisible.org/episode/blood-sweat-tears-city-future-part-2/\n",
      "Episode 296 https://99percentinvisible.org/episode/bijlmer-city-future-part-1/\n",
      "Episode 295 https://99percentinvisible.org/episode/making-mark-visual-identity-tom-geismar/\n",
      "Episode 294 https://99percentinvisible.org/episode/border-wall/\n",
      "Episode 293 https://99percentinvisible.org/episode/managed-retreat/\n",
      "Episode 292 https://99percentinvisible.org/episode/speech-bubbles-understanding-comics-scott-mccloud/\n",
      "Episode 291 https://99percentinvisible.org/episode/thermal-delight/\n",
      "Episode 290 https://99percentinvisible.org/episode/mini-stories-volume-4/\n",
      "Episode 289 https://99percentinvisible.org/episode/mini-stories-volume-3/\n",
      "Episode 288 https://99percentinvisible.org/episode/guerrilla-public-service/\n",
      "Episode 287 https://99percentinvisible.org/episode/nut-behind-wheel/\n",
      "Episode 286 https://99percentinvisible.org/episode/700-foot-mountain-whipped-cream/\n",
      "Episode 285 https://99percentinvisible.org/episode/money-makers/\n",
      "Episode 284 https://99percentinvisible.org/episode/hero-props-graphic-design-film-television/\n",
      "Episode 283 https://99percentinvisible.org/episode/dollhouses-st-louis/\n",
      "Episode 282 https://99percentinvisible.org/episode/oyster-tecture/\n",
      "Episode 281 https://99percentinvisible.org/episode/la-sagrada-familia/\n",
      "Episode 280 https://99percentinvisible.org/episode/half-measures/\n",
      "Episode 278 https://99percentinvisible.org/episode/the-athletic-brassiere/\n",
      "Episode 277 https://99percentinvisible.org/episode/ponte-city-tower/\n",
      "Episode 276 https://99percentinvisible.org/episode/the-finnish-experiment/\n",
      "Episode 275 https://99percentinvisible.org/episode/coal-hogs-work-safe/\n",
      "Episode 274 https://99percentinvisible.org/episode/the-age-of-the-algorithm/\n",
      "Episode 273 https://99percentinvisible.org/episode/notes-imagined-plaque/\n",
      "Episode 272 https://99percentinvisible.org/episode/person-lotus-position/\n",
      "Episode 271 https://99percentinvisible.org/episode/great-dismal-swamp/\n",
      "Episode 270 https://99percentinvisible.org/episode/the-stethoscope/\n",
      "Episode 269 https://99percentinvisible.org/episode/ways-of-hearing/\n",
      "Episode 268 https://99percentinvisible.org/episode/el-gordo/\n",
      "Episode 267 https://99percentinvisible.org/episode/trials-dan-dave/\n",
      "Episode 266 https://99percentinvisible.org/episode/repackaging-the-pill/\n",
      "Episode 265 https://99percentinvisible.org/episode/the-pool-and-the-stream/\n",
      "Episode 264 https://99percentinvisible.org/episode/mexico-68/\n",
      "Episode 263 https://99percentinvisible.org/episode/you-should-do-a-story/\n",
      "Episode 262 https://99percentinvisible.org/episode/in-the-same-ballpark/\n",
      "Episode 199 https://99percentinvisible.org/episode/yin-yang-basketball/\n",
      "Episode 261 https://99percentinvisible.org/episode/squatters-lower-east-side/\n",
      "Episode 260 https://99percentinvisible.org/episode/new-jersey/\n",
      "Episode 259 https://99percentinvisible.org/episode/chance-anchorwoman-great-alaska-earthquake/\n",
      "Episode 258 https://99percentinvisible.org/episode/the-modern-necropolis/\n",
      "Episode 257 https://99percentinvisible.org/episode/reversing-the-grid/\n",
      "Episode 256 https://99percentinvisible.org/episode/sounds-natural/\n",
      "Episode 255 https://99percentinvisible.org/episode/the-architect-of-hollywood/\n",
      "Episode 254 https://99percentinvisible.org/episode/containers-ships-tugs-port/\n",
      "Episode 253 https://99percentinvisible.org/episode/manzanar/\n",
      "Episode 252 https://99percentinvisible.org/episode/the-falling-of-the-lenins/\n",
      "Episode 251 https://99percentinvisible.org/episode/negative-space-logo-design-michael-bierut/\n",
      "Episode 250 https://99percentinvisible.org/episode/state-sanctuary-part-2/\n",
      "Episode 249 https://99percentinvisible.org/episode/church-sanctuary-part-1/\n",
      "Episode 248 https://99percentinvisible.org/episode/atom-garden-eden/\n",
      "Episode 247 https://99percentinvisible.org/episode/usonia-the-beautiful/\n",
      "Episode 246 https://99percentinvisible.org/episode/usonia-1/\n",
      "Episode 245 https://99percentinvisible.org/episode/the-eponymist/\n",
      "Episode 244 https://99percentinvisible.org/episode/the-revolutionary-post/\n",
      "Episode 243 https://99percentinvisible.org/episode/tom-swift-electric-rifle/\n",
      "Episode 242 https://99percentinvisible.org/episode/mini-stories-volume-2/\n",
      "Episode 241 https://99percentinvisible.org/episode/mini-stories-volume-1/\n",
      "Episode 240 https://99percentinvisible.org/episode/plat-of-zion/\n",
      "Episode 239 https://99percentinvisible.org/episode/guano-mania/\n",
      "Episode 238 https://99percentinvisible.org/episode/nbc-chimes-behind-scenes-first-trademarked-sound/\n",
      "Episode 237 https://99percentinvisible.org/episode/dollar-store-town-inside-worlds-biggest-wholesale-market/\n",
      "Episode 236 https://99percentinvisible.org/episode/reverb-evolution-architectural-acoustics/\n",
      "Episode 235 https://99percentinvisible.org/episode/ten-letters-president/\n",
      "Episode 234 https://99percentinvisible.org/episode/shift-redesigning-baseballs-defense/\n",
      "Episode 233 https://99percentinvisible.org/episode/space-trash-space-treasure/\n",
      "Episode 232 https://99percentinvisible.org/episode/mcmansion-hell-devil-details/\n",
      "Episode 231 https://99percentinvisible.org/episode/half-a-house/\n",
      "Episode 230 https://99percentinvisible.org/episode/project-cybersyn/\n",
      "Episode 229 https://99percentinvisible.org/episode/the-trend-forecast/\n",
      "Episode 228 https://99percentinvisible.org/episode/making-up-ground/\n",
      "Episode 227 https://99percentinvisible.org/episode/public-works-rethinking-americas-transportation-infrastructure/\n",
      "Episode 226 https://99percentinvisible.org/episode/on-average/\n",
      "Episode 225 https://99percentinvisible.org/episode/photo-credit-negatives-bauhaus/\n",
      "Episode 224 https://99percentinvisible.org/episode/sea-worth-salt/\n",
      "Episode 223 https://99percentinvisible.org/episode/magic-bureaucrat-riverside-miracle/\n",
      "Episode 222 https://99percentinvisible.org/episode/combat-hearing-loss/\n",
      "Episode 221 https://99percentinvisible.org/episode/americas-last-top-model/\n",
      "Episode 220 https://99percentinvisible.org/episode/the-mind-of-an-architect/\n",
      "Episode 219 https://99percentinvisible.org/episode/unpleasant-design-hostile-urban-architecture/\n",
      "Episode 218 https://99percentinvisible.org/episode/remembering-stonewall/\n",
      "Episode 217 https://99percentinvisible.org/episode/home-on-lagrange/\n",
      "Episode 216 https://99percentinvisible.org/episode/the-blazer-experiment/\n",
      "Episode 215 https://99percentinvisible.org/episode/h-day/\n",
      "Episode 214 https://99percentinvisible.org/episode/loud-and-clear/\n",
      "Episode 213 https://99percentinvisible.org/episode/separation-anxiety/\n",
      "Episode 212 https://99percentinvisible.org/episode/turf-wars/\n",
      "Episode 211 https://99percentinvisible.org/episode/the-grand-dame-of-broad-street/\n",
      "Episode 210 https://99percentinvisible.org/episode/unseen-city-wonders-urban-wilderness/\n",
      "Episode 209 https://99percentinvisible.org/episode/supertall-101/\n",
      "Episode 208 https://99percentinvisible.org/episode/vox-ex-machina/\n",
      "Episode 207 https://99percentinvisible.org/episode/soul-city/\n",
      "Episode 206 https://99percentinvisible.org/episode/stop-that-bus/\n",
      "Episode 205 https://99percentinvisible.org/episode/flying-food/\n",
      "Episode 204 https://99percentinvisible.org/episode/the-soho-effect/\n",
      "Episode 203 https://99percentinvisible.org/episode/the-giftschrank/\n",
      "Episode 202 https://99percentinvisible.org/episode/mojave-phone-booth/\n",
      "Episode 201 https://99percentinvisible.org/episode/the-green-book/\n",
      "Episode 200 https://99percentinvisible.org/episode/miss-manhattan/\n",
      "Episode 198 https://99percentinvisible.org/episode/frozen-assets/\n",
      "Episode 197 https://99percentinvisible.org/episode/fish-cannon/\n",
      "Episode 196 https://99percentinvisible.org/episode/the-fresno-drop/\n",
      "Episode 195 https://99percentinvisible.org/episode/best-enjoyed-by/\n",
      "Episode 194 https://99percentinvisible.org/episode/bone-music/\n",
      "Episode 193 https://99percentinvisible.org/episode/tube-benders/\n",
      "Episode 192 https://99percentinvisible.org/episode/pagodas-dragon-gates/\n",
      "Episode 191 https://99percentinvisible.org/episode/worst-smell-in-the-world/\n",
      "Episode 190 https://99percentinvisible.org/episode/fixing-the-hobo-suit/\n",
      "Episode 189 https://99percentinvisible.org/episode/the-landlords-game/\n",
      "Episode 188 https://99percentinvisible.org/episode/fountain-drinks/\n",
      "Episode 187 https://99percentinvisible.org/episode/butterfly-effects/\n",
      "Episode 186 https://99percentinvisible.org/episode/war-and-pizza/\n",
      "Episode 185 https://99percentinvisible.org/episode/atmospherians/\n",
      "Episode 110 https://99percentinvisible.org/episode/structural-integrity-2/\n",
      "Episode 184 https://99percentinvisible.org/episode/rajneeshpuram/\n",
      "Episode 183 https://99percentinvisible.org/episode/dead-letter-office/\n",
      "Episode 182 https://99percentinvisible.org/episode/a-sweet-surprise-awaits-you/\n",
      "Episode 181 https://99percentinvisible.org/episode/milk-carton-kids/\n",
      "Episode 180 https://99percentinvisible.org/episode/reefer-madness/\n",
      "Episode 179 https://99percentinvisible.org/episode/bathysphere/\n",
      "Episode 178 https://99percentinvisible.org/episode/the-great-restoration/\n",
      "Episode 177 https://99percentinvisible.org/episode/lawn-order/\n",
      "Episode 176 https://99percentinvisible.org/episode/hard-to-love-a-brute/\n",
      "Episode 175 https://99percentinvisible.org/episode/the-sunshine-hotel/\n",
      "Episode 174 https://99percentinvisible.org/episode/from-the-sea-freedom/\n",
      "Episode 173 https://99percentinvisible.org/episode/awareness/\n",
      "Episode 172 https://99percentinvisible.org/episode/on-location/\n",
      "Episode 171 https://99percentinvisible.org/episode/johnnycab-automation-paradox-pt-2/\n",
      "Episode 170 https://99percentinvisible.org/episode/children-of-the-magenta-automation-paradox-pt-1/\n",
      "Episode 169 https://99percentinvisible.org/episode/freuds-couch/\n",
      "Episode 168 https://99percentinvisible.org/episode/all-in-your-head/\n",
      "Episode 167 https://99percentinvisible.org/episode/voices-in-the-wire/\n",
      "Episode 166 https://99percentinvisible.org/episode/viva-la-arquitectura/\n",
      "Episode 164 https://99percentinvisible.org/episode/the-post-billiards-age/\n",
      "Episode 163 https://99percentinvisible.org/episode/the-gruen-effect/\n",
      "Episode 162 https://99percentinvisible.org/episode/mystery-house/\n",
      "Episode 161 https://99percentinvisible.org/episode/show-of-force/\n",
      "Episode 160 https://99percentinvisible.org/episode/perfect-security/\n",
      "Episode 159 https://99percentinvisible.org/episode/the-calendar/\n",
      "Episode 158 https://99percentinvisible.org/episode/sandhogs/\n",
      "Episode 54 https://99percentinvisible.org/episode/the-colour-of-money-r/\n",
      "Episode 157 https://99percentinvisible.org/episode/devils-rope/\n",
      "Episode 156 https://99percentinvisible.org/episode/coin-check/\n",
      "Episode 155 https://99percentinvisible.org/episode/palm-reading/\n",
      "Episode 154 https://99percentinvisible.org/episode/pdx-carpet/\n",
      "Episode 153 https://99percentinvisible.org/episode/game-over/\n",
      "Episode 151 https://99percentinvisible.org/episode/la-mascotte/\n",
      "Episode 150 https://99percentinvisible.org/episode/under-the-moonlight/\n",
      "Episode 149 https://99percentinvisible.org/episode/of-mice-and-men/\n",
      "Episode 148 https://99percentinvisible.org/episode/the-sizzle/\n",
      "Episode 147 https://99percentinvisible.org/episode/penn-station-sucks/\n",
      "Episode 145 https://99percentinvisible.org/episode/octothorpe/\n",
      "Episode 144 https://99percentinvisible.org/episode/there-is-a-light-that-never-goes-out/\n",
      "Episode 143 https://99percentinvisible.org/episode/inflatable-men/\n",
      "Episode 142 https://99percentinvisible.org/episode/and-the-winner-is/\n",
      "Episode 140 https://99percentinvisible.org/episode/vexillonaire/\n",
      "Episode 139 https://99percentinvisible.org/episode/edge-of-your-seat/\n",
      "Episode 138 https://99percentinvisible.org/episode/o-u-i-j-a/\n",
      "Episode 137 https://99percentinvisible.org/episode/good-bread/\n",
      "Episode 136 https://99percentinvisible.org/episode/lights-out/\n",
      "Episode 135 https://99percentinvisible.org/episode/for-amusement-only/\n",
      "Episode 134 https://99percentinvisible.org/episode/the-straight-line-is-a-godless-line/\n",
      "Episode 133 https://99percentinvisible.org/episode/port-of-dallas/\n",
      "Episode 132 https://99percentinvisible.org/episode/castle-on-the-park/\n",
      "Episode 131 https://99percentinvisible.org/episode/genesis-object/\n",
      "Episode 130 https://99percentinvisible.org/episode/holdout/\n",
      "Episode 129 https://99percentinvisible.org/episode/thomassons/\n",
      "Episode 128 https://99percentinvisible.org/episode/hacking-ikea/\n",
      "Episode 127 https://99percentinvisible.org/episode/the-sound-of-sports/\n",
      "Episode 126 https://99percentinvisible.org/episode/walk-this-way/\n",
      "Episode 125 https://99percentinvisible.org/episode/duplitecture/\n",
      "Episode 124 https://99percentinvisible.org/episode/longbox/\n",
      "Episode 123 https://99percentinvisible.org/episode/snowflake/\n",
      "Episode 122 https://99percentinvisible.org/episode/good-egress/\n",
      "Episode 121 https://99percentinvisible.org/episode/cold-war-kids/\n",
      "Episode 120 https://99percentinvisible.org/episode/skyjacking/\n",
      "Episode 119 https://99percentinvisible.org/episode/feet-of-engineering/\n",
      "Episode 118 https://99percentinvisible.org/episode/song-exploder/\n",
      "Episode 117 https://99percentinvisible.org/episode/clean-trains/\n",
      "Episode 116 https://99percentinvisible.org/episode/breaking-the-bank/\n",
      "Episode 115 https://99percentinvisible.org/episode/cow-tunnels/\n",
      "Episode 114 https://99percentinvisible.org/episode/ten-thousand-years/\n",
      "Episode 113 https://99percentinvisible.org/episode/monumental-dilemma/\n",
      "Episode 112 https://99percentinvisible.org/episode/young-ruin/\n",
      "Episode 111 https://99percentinvisible.org/episode/masters-of-the-uni-verse/\n",
      "Episode 110 https://99percentinvisible.org/episode/structural-integrity/\n",
      "Episode 109 https://99percentinvisible.org/episode/title-tk/\n",
      "Episode 108 https://99percentinvisible.org/episode/barcodes/\n",
      "Episode 107 https://99percentinvisible.org/episode/call-now/\n",
      "Episode 106 https://99percentinvisible.org/episode/the-fancy-shape/\n",
      "Episode 105 https://99percentinvisible.org/episode/one-man-is-an-island/\n",
      "Episode 104 https://99percentinvisible.org/episode/tunnel-57/\n",
      "Episode 103 https://99percentinvisible.org/episode/u-t-b-a-p-h/\n",
      "Episode 102 https://99percentinvisible.org/episode/icon-for-access/\n",
      "Episode 101 https://99percentinvisible.org/episode/cover-story/\n",
      "Episode 100 https://99percentinvisible.org/episode/higher-and-higher/\n",
      "Episode 99 https://99percentinvisible.org/episode/the-view-from-the-79th-floor/\n",
      "Episode 98 https://99percentinvisible.org/episode/six-stories/\n",
      "Episode 97 https://99percentinvisible.org/episode/numbers-stations/\n",
      "Episode 96 https://99percentinvisible.org/episode/diy-space-suits/\n",
      "Episode 95 https://99percentinvisible.org/episode/future-screens-are-mostly-blue/\n",
      "Episode 94 https://99percentinvisible.org/episode/unbuilt/\n",
      "Episode 93 https://99percentinvisible.org/episode/revolving-doors/\n",
      "Episode 92 https://99percentinvisible.org/episode/all-the-buildings/\n",
      "Episode 91 https://99percentinvisible.org/episode/wild-ones-live/\n",
      "Episode 90 https://99percentinvisible.org/episode/strowger-switch-purple-reign-redux/\n",
      "Episode 89 https://99percentinvisible.org/episode/bubble-houses/\n",
      "Episode 88 https://99percentinvisible.org/episode/the-broadcast-clock/\n",
      "Episode 87 https://99percentinvisible.org/episode/episode-87-i-heart-ny-tm/\n",
      "Episode 86 https://99percentinvisible.org/episode/episode-86-reversal-of-fortune/\n",
      "Episode 85 https://99percentinvisible.org/episode/episode-85-noble-effort/\n",
      "Episode 84 https://99percentinvisible.org/episode/episode-84-ladislav-sutnar-trading-places-with/\n",
      "Episode 83 https://99percentinvisible.org/episode/episode-83-heyoon/\n",
      "Episode 82 https://99percentinvisible.org/episode/episode-82-the-man-of-tomorrow/\n",
      "Episode 81 https://99percentinvisible.org/episode/episode-81-rebar-and-the-alvord-lake-bridge/\n",
      "Episode 80 https://99percentinvisible.org/episode/episode-80-an-architects-code/\n",
      "Episode 79 https://99percentinvisible.org/episode/episode-79-symphony-of-sirens-revisited/\n",
      "Episode 78 https://99percentinvisible.org/episode/episode-78-no-armed-bandit/\n",
      "Episode 77 https://99percentinvisible.org/episode/episode-77-game-changer/\n",
      "Episode 76 https://99percentinvisible.org/episode/episode-76-the-modern-moloch/\n",
      "Episode 75 https://99percentinvisible.org/episode/episode-75-secret-staircases/\n",
      "Episode 74 https://99percentinvisible.org/episode/episode-74-hand-painted-signs/\n",
      "Episode 73 https://99percentinvisible.org/episode/episode-73-the-zanzibar-and-other-building-poems/\n",
      "Episode 72 https://99percentinvisible.org/episode/episode-72-new-old-town/\n",
      "Episode 71 https://99percentinvisible.org/episode/episode-71-in-and-out-of-love/\n",
      "Episode 70 https://99percentinvisible.org/episode/episode-70-the-great-red-car-conspiracy/\n",
      "Episode 69 https://99percentinvisible.org/episode/episode-69-the-brief-and-tumultuous-life-of-the-new-uc/\n",
      "Episode 68 https://99percentinvisible.org/episode/episode-68-built-for-speed/\n",
      "Episode 67 https://99percentinvisible.org/episode/episode-67-broken-window/\n",
      "Episode 66 https://99percentinvisible.org/episode/episode-66-kowloon-walled-city/\n",
      "Episode 65 https://99percentinvisible.org/episode/episode-65-razzle-dazzle/\n",
      "Episode 64 https://99percentinvisible.org/episode/episode-64-derelict-dome/\n",
      "Episode 63 https://99percentinvisible.org/episode/episode-63-the-political-stage/\n",
      "Episode 62 https://99percentinvisible.org/episode/episode-62-q2/\n",
      "Episode 61 https://99percentinvisible.org/episode/episode-61-a-series-of-tubes/\n",
      "Episode 60b https://99percentinvisible.org/episode/episode-60b-backstory-heyward-shepherd-memorial/\n",
      "Episode 60a https://99percentinvisible.org/episode/episode-60a-two-storeys-language-bites-and-the-memory/\n",
      "Episode 60 https://99percentinvisible.org/episode/episode-60-names-vs-the-nothing/\n",
      "Episode 59 https://99percentinvisible.org/episode/episode-59-some-other-sign-that-people-do-not-totally/\n",
      "Episode 58 https://99percentinvisible.org/episode/episode-58-purple-reign/\n",
      "Episode 57 https://99percentinvisible.org/episode/episode-57-what-gave-you-that-idea/\n",
      "Episode 56 https://99percentinvisible.org/episode/episode-56-frozen-music/\n",
      "Episode 55 https://99percentinvisible.org/episode/episode-55-the-best-beer-in-the-world/\n",
      "Episode 54 https://99percentinvisible.org/episode/episode-54-the-colour-of-money/\n",
      "Episode 53 https://99percentinvisible.org/episode/episode-53-the-xanadu-effect/\n",
      "Episode 52 https://99percentinvisible.org/episode/episode-52-galloping-gertie/\n",
      "Episode 51 https://99percentinvisible.org/episode/episode-51-the-arsenal-of-exclusion/\n",
      "Episode 50 https://99percentinvisible.org/episode/episode-50-deafspace/\n",
      "Episode 49 https://99percentinvisible.org/episode/episode-49-queue-theory-and-design/\n",
      "Episode 48 https://99percentinvisible.org/episode/episode-48-the-bathtubs-or-the-boiler-room/\n",
      "Episode 47 https://99percentinvisible.org/episode/episode-47-us-postal-service-stamps/\n",
      "Episode 46 https://99percentinvisible.org/episode/episode-46-vulcanite-dentures-or-when-patent/\n",
      "Episode 45 https://99percentinvisible.org/episode/episode-45-beauty-pill-immersive-ideal/\n",
      "Episode 44 https://99percentinvisible.org/episode/episode-44-the-pruitt-igoe-myth/\n",
      "Episode 43 https://99percentinvisible.org/episode/episode-43-the-accidental-music-of-imperfect/\n",
      "Episode 42 https://99percentinvisible.org/episode/episode-42-recognizably-anonymous/\n",
      "Episode 41 https://99percentinvisible.org/episode/episode-41-the-human-human-interface/\n",
      "Episode 40 https://99percentinvisible.org/episode/episode-40-billy-possum/\n",
      "Episode 39X https://99percentinvisible.org/episode/episode-39x-the-biography-of-100-000-square-feet/\n",
      "Episode 39 https://99percentinvisible.org/episode/episode-39-the-darth-vader-family-courthouse/\n",
      "Episode 38 https://99percentinvisible.org/episode/episode-38-the-sound-of-sport/\n",
      "Episode 37 https://99percentinvisible.org/episode/episode-37-the-steering-wheel/\n",
      "Episode 36 https://99percentinvisible.org/episode/episode-36-super-bon-bonn/\n",
      "Episode 35 https://99percentinvisible.org/episode/episode-35-elegy-for-wtc/\n",
      "Episode 34 https://99percentinvisible.org/episode/episode-34-building-pyramids/\n",
      "Episode 33 https://99percentinvisible.org/episode/episode-33-a-cheer-for-samuel-plimsoll/\n",
      "Episode 32 https://99percentinvisible.org/episode/episode-32-design-for-airports/\n",
      "Episode 31 https://99percentinvisible.org/episode/episode-31-the-feltron-annual-report/\n",
      "Episode 30 https://99percentinvisible.org/episode/episode-30-the-blue-yarn-download-embed-share/\n",
      "Episode 29 https://99percentinvisible.org/episode/episode-29-cul-de-sac-download-embed-share/\n",
      "Episode 28 https://99percentinvisible.org/episode/episode-28-movie-title-sequences-download/\n",
      "Episode 27 https://99percentinvisible.org/episode/episode-27-bridge-to-the-sky-download-embed/\n",
      "Episode 26 https://99percentinvisible.org/episode/episode-26-the-mcc-chicagos-jailhouse/\n",
      "Episode 25 https://99percentinvisible.org/episode/episode-25-unsung-icons-of-soviet-design/\n",
      "Episode 24 https://99percentinvisible.org/episode/episode-24-the-two-fates-of-the-old-east-portico/\n",
      "Episode 23 https://99percentinvisible.org/episode/episode-23-you-are-listening-to/\n",
      "Episode 22 https://99percentinvisible.org/episode/episode-22-the-invisible-monument-to-free-speech/\n",
      "Episode 21 https://99percentinvisible.org/episode/episode-21-bldgblog-on-sound/\n",
      "Episode 20 https://99percentinvisible.org/episode/episode-20-nikko-concrete-commando/\n",
      "Episode 19x https://99percentinvisible.org/episode/99-invisible-extra-episode-19x-rjdj-reactive/\n",
      "Episode 19 https://99percentinvisible.org/episode/episode-19-liberation-squares-ny-dick/\n",
      "Episode 18 https://99percentinvisible.org/episode/episode-18-check-cashing-stores-download-embed/\n",
      "Episode 17 https://99percentinvisible.org/episode/episode-17-concrete-furniture/\n",
      "Episode 16 https://99percentinvisible.org/episode/episode-16-a-designed-language-download-embed/\n",
      "Episode 15 https://99percentinvisible.org/episode/episode-15-the-sound-of-the-artificial-world/\n",
      "Episode 14 https://99percentinvisible.org/episode/episode-14-the-periodic-table-infographic/\n",
      "Episode 13 https://99percentinvisible.org/episode/episode-13-maps-they-dont-love-you-like-i-love/\n",
      "Episode 12 https://99percentinvisible.org/episode/episode-12-99-guilt-free/\n",
      "Episode 11 https://99percentinvisible.org/episode/episode-11-99-undesigned-but-still-evil/\n",
      "Episode 10 https://99percentinvisible.org/episode/episode-10-99-sound-and-feel/\n",
      "Episode 09 https://99percentinvisible.org/episode/episode-09-99-private/\n",
      "Episode 09X https://99percentinvisible.org/episode/9x-one-way-ticket-to-mars/\n",
      "Episode 08 https://99percentinvisible.org/episode/episode-08-99-free-parking/\n",
      "Episode 07 https://99percentinvisible.org/episode/episode-07-99-alien/\n",
      "Episode 06 https://99percentinvisible.org/episode/episode-06-99-symbolic/\n",
      "Episode 05 https://99percentinvisible.org/episode/episode-05-99-forgotten/\n",
      "Episode 04 https://99percentinvisible.org/episode/download-embed-share-episode-04-99/\n",
      "Episode 03 https://99percentinvisible.org/episode/download-embed-share-episode-03-99-reality/\n",
      "Episode 02 https://99percentinvisible.org/episode/02-99-180/\n",
      "Episode 01 https://99percentinvisible.org/episode/99-invisible-01-99-noise-by-roman-mars-this/\n"
     ]
    }
   ],
   "source": [
    "for ep in ninetynine:\n",
    "    print(ep['episode_number'],ep['url'])"
   ]
  },
  {
   "cell_type": "code",
   "execution_count": null,
   "metadata": {},
   "outputs": [],
   "source": []
  },
  {
   "cell_type": "markdown",
   "metadata": {},
   "source": [
    "# Add a couple more episodes\n",
    "After the inital scraping more episode transcripts became availible, so I added those episodes"
   ]
  },
  {
   "cell_type": "code",
   "execution_count": 146,
   "metadata": {},
   "outputs": [],
   "source": [
    "more_episodes = [\n",
    "    'https://99percentinvisible.org/episode/the-post-billiards-age/',\n",
    "    'https://99percentinvisible.org/episode/the-gruen-effect/',\n",
    "    'https://99percentinvisible.org/episode/fraktur/'\n",
    "]"
   ]
  },
  {
   "cell_type": "code",
   "execution_count": 147,
   "metadata": {},
   "outputs": [],
   "source": [
    "def nn_pi_scrap(episode_urls):\n",
    "    nn_pi = []\n",
    "    fail_urls = []\n",
    "    for i, url in enumerate(episode_urls):\n",
    "        try:\n",
    "            response = requests.get(url+'transcript')\n",
    "            print(f\"{response.status_code}:{i} {url.split('/')[-2]}\")\n",
    "            soup = BeautifulSoup(response.text)\n",
    "\n",
    "            episode = dict()\n",
    "            episode['episode_number'] = soup.find('h4').text\n",
    "            episode['title'] = soup.find('h1').text\n",
    "            details = soup.find_all(class_=\"meta-value\")\n",
    "            episode['category'] = details[0].text\n",
    "            episode['date'] = details[1].text\n",
    "            episode['producer'] = details[2].text\n",
    "            episode['url'] = url\n",
    "\n",
    "            episode['transcript'] = soup.find(class_=\"page-content transcript-content\").text\n",
    "\n",
    "            nn_pi.append(episode)      \n",
    "        except:\n",
    "            failed_urls.append(url)\n",
    "            print(f\"Failed {url.split('/')[-2]}\")\n",
    "\n",
    "        time.sleep(1)\n",
    "    return nn_pi, fail_urls"
   ]
  },
  {
   "cell_type": "code",
   "execution_count": 149,
   "metadata": {},
   "outputs": [
    {
     "name": "stdout",
     "output_type": "stream",
     "text": [
      "200:0 the-post-billiards-age\n",
      "200:1 the-gruen-effect\n",
      "200:2 fraktur\n"
     ]
    }
   ],
   "source": [
    "nn_eps, failed_eps = nn_pi_scrap(more_episodes)"
   ]
  },
  {
   "cell_type": "code",
   "execution_count": 152,
   "metadata": {},
   "outputs": [
    {
     "data": {
      "text/plain": [
       "[{'episode_number': 'Episode 164',\n",
       "  'title': 'The Post-Billiards Age',\n",
       "  'category': 'Objects',\n",
       "  'date': '05.12.15',\n",
       "  'producer': '99pi',\n",
       "  'url': 'https://99percentinvisible.org/episode/the-post-billiards-age/',\n",
       "  'transcript': '\\nRoman Mars:\\nThis is 99% Invisible. I’m Roman Mars.\\nRoman Mars:\\nWe live in a post-billiards world. There was an age of billiards, and it has been over for so long, most of us have no idea how huge billiards once was.\\nDan Weissmann:\\nA hundred years ago, there were 830 pool halls in my city of Chicago. Now if you add up all the gas stations, all the McDonald’s and all the Starbucks in Chicago right now, you’d be nowhere close to that number. You’d be a little under 600 if you want to be exact.\\nRoman Mars:\\nAnd I know you do, you beautiful nerds.\\nDan Weissmann:\\nToday, Chicago has fewer than 10 pool halls.\\nRoman Mars:\\nThat is Dan Weissmann – reporter, Chicagoan. Dan originally reported this story for ‘Marketplace.’\\nDan Weissmann:\\nSo billiards, not what it used to be.\\nRoman Mars:\\nBut this is a post-billiards world in a much more profound sense because the growth of billiards led to the development of a material that, for better or worse, came to define the modern world.\\nDan Weissmann:\\nI just want to say one word to you. Just one word. You listening? Plastics. This story starts with a guy named Michael Phelan-\\nMichael Shamos:\\nWho’s regarded by everybody as really the father of American billiards.\\nDan Weissmann:\\nThat’s Michael Shamos. He’s the author of the ‘Illustrated Encyclopedia of Billiards.’\\nRoman Mars:\\nPhelan was a brilliant player, but he also raised awareness of the sport, promoted it, arranging the biggest big-money matches.\\nMichael Shamos:\\nPhelan was totally remarkable because he was everything. He was an all-around everything guy.\\nDan Weissmann:\\nHe started a huge billiards hall in San Francisco. He patented a new kind of billiard cushion, and then he took the money he had won playing billiards and writing books on billiards and used it to become the first big manufacturer of billiard tables and equipment.\\nRoman Mars:\\nPhelan created the age of billiards in the US and he felt that to further popularize the game of billiards-\\nDan Weissmann:\\nAnd sell more tickets to matches and sell more books and sell more equipment, he would need to standardize the gear. Because if tables and balls weren’t the same from one location to another, well you were basically playing a different game every time you went somewhere new.\\nRoman Mars:\\nBut standardizing the billiard ball was no easy task. It’s a very, very high standard to meet.\\nMichael Shamos:\\nThe billiard ball has to have certain physical properties. It has to rebound properly, it has to be a uniform density.\\nDan Weissmann:\\nAnd at the time, there was really only one material that would do. Ivory, which was not cheap. Going to Africa, shooting elephants. That is dangerous and expensive, not to mention horrible.\\nMichael Shamos:\\nAnd people for decades had been trying to find substitutes for ivory, and they tried a variety of materials including even metal balls, iron balls, which really don’t perform well.\\nRoman Mars:\\nIron billiard balls just weren’t the same.\\nDan Weissmann:\\nIvory balls had just the right weight, the most even roll, the best rebound off the cue stick, off each other, off the side of the table. Nothing was as good. And not only that, only the best grade ivory would do. In fact, when you look at records from the ivory trade, the top grade of ivory is actually called ‘billiard ball ivory.’\\nRoman Mars:\\nAnd billiard balls required a lot of billiard ball-grade ivory.\\nDan Weissmann:\\nUnlike the ivory on piano keys, which were just a veneer over wood, billiard balls had to be made of 100% solid ivory and therefore-\\nMichael Shamos:\\nThe average number of billiard balls that could be obtained from a single tusk was three.\\nDan Weissmann:\\nIf you are the best, luckiest billiard ball turner, maybe you could get five balls from one tusk, but even so, that means one set of billiard balls is going to require killing at least two elephants.\\nRoman Mars:\\nSo billiard balls were very expensive, and when you’re trying to build an industry, that’s a problem.\\nDan Weissmann:\\nFor Phelan’s company, it was the problem.\\nRobert Friedel:\\nThe entire trade depended on the shortage of this one exotic material.\\nDan Weissmann:\\nThat’s Robert Friedel, a professor at the University of Maryland. He studies the history of technology, and he wrote the book on what happens next.\\nRoman Mars:\\nPhelan and his colleagues were acutely aware that their dependency on ivory was not ideal.\\nRobert Friedel:\\nThey’re really desperate, I don’t think is too strong a word, to find some kind of substitute material, but there simply wasn’t anything.\\nDan Weissmann:\\nPhelan takes out an ad in the paper, and here’s a dramatization of what happened when a guy named John Wesley Hyatt found that ad.\\n[Clip from Cavalcade of America]\\n“Say, John?”\\nJohn Wesley Hyatt: “Yeah.”\\n“Man, look at this, read it yourself.”\\nJohn Wesley Hyatt: “A prize of $10,000 for the discovery of a satisfactory substitute for ivory and making billiard balls.”\\nDan Weissmann:\\nThat’s from a 1937 episode of a radio show called ‘Cavalcade of America.’\\n[Clip from Cavalcade of America]\\n“Say, that’s a lot of money.”\\nJohn Wesley Hyatt: “Certainly is.”\\nRoman Mars:\\nIn terms of wages people earned at the time, it was like three million dollars.\\nDan Weissmann:\\nHyatt wasn’t a chemist, but he was a tinkerer and he worked for years to win Phelan’s prize.\\nRoman Mars:\\nBy trade, Hyatt was a printer, and printers used nitrated cellulose to protect their hands. It’s still sold as liquid bandages.\\nRobert Friedel:\\nAnd that material turned out to have very interesting properties, and in particular, it dissolved and it creates a very syrupy liquid.\\nRoman Mars:\\nIn the radio dramatization, Hyatt gets his key inspiration when a bottle of this stuff overturns and he watches it dry into a film that he finds interesting.\\n[Clip from Cavalcade of America]\\nJohn Wesley Hyatt: “Why this bit of film has given me an idea, and the idea might be worth $10,000.”\\nRoman Mars:\\nHyatt’s idea might’ve been worth $10,000, but it was also dangerous. Nitrated cellulose is highly, highly flammable.\\n[Clip from Cavalcade of America]\\n“You mean just say you’re going to heat that nitrated cotton and compress it?”\\nJohn Wesley Hyatt: “That’s right.”\\n“I’m out of here, getting as far away as I can before you start using that press.”\\nRoman Mars:\\nBut John Hyatt and his lab assistant, Jim kept going. They’d heat up the nitrated cotton, put it in the press and…\\n[Clip from Cavalcade of America]\\nJim: “Ready to open the press, John?”\\nJohn Wesley Hyatt: “Yeah. Throw the lever.”\\nJim: “John, what is it? Why don’t you speak? What’s the matter?”\\nJohn Wesley Hyatt: “Look, Jim! The press, look at it. Jim, it’s what we’ve been trying to find all this time, a material that will take the place of ivory.”\\nRoman Mars:\\nAnd the material that would take the place of ivory was plastic.\\nDan Weissmann:\\nHyatt called his new material ‘celluloid,’ but celluloid did not win Phelan’s $10,000 prize.\\nRobert Friedel:\\nCelluloid is a wonderful material. It’s a beautiful plastic. It can be colored in all sorts of ways. It can be shaped beautifully. It has a wonderful range of uses, but billiard balls was not one of them.\\nRoman Mars:\\nBalls made of celluloid just didn’t bounce right, but Hyatt tried to make a go of it anyway.\\nRobert Friedel:\\nHe does set up a billiard ball company, but his balls are not made of celluloid. They have a thin veneer of celluloid on the outside, but they’re mainly plaster on the inside and they’re a very inferior billiard ball.\\nDan Weissmann:\\nHyatt didn’t give up on celluloid. He went into business with his brother, Isaiah.\\nRobert Friedel:\\nThe Hyatts set up a whole series of companies to try to exploit what they are convinced is a very nifty material, but they can’t figure out what on Earth the market’s going to be.\\nRoman Mars:\\nThey tried dental plates. You can color celluloid to look just like real gums, but there is a problem.\\nRobert Friedel:\\nTurns out that celluloid gets soft if you’re drinking hot tea.\\nDan Weissmann:\\nEventually, they find the best use for celluloid is imitation ivory, albeit not for billiard balls, but for versions of popular ivory luxury goods. Knife handles, combs, hand mirrors.\\nRobert Friedel:\\nEven toys and boxes, a gigantic range of things, many of which would never actually have been made in ivory.\\nDan Weissmann:\\nAlso, piano keys. A Sears catalog from the 1890s offers pianos with a choice of key coverings: ivory or celluloid.\\nRoman Mars:\\nAnd of course, the most famous use of celluloid would eventually be to make film stock for movies.\\nDan Weissmann:\\nMeanwhile, billiard balls kept getting made out of ivory.\\nRoman Mars:\\nIvory that came mostly from Africa, which of course the Europeans had been busy colonizing and exploiting. And the ivory trade was pretty awful for the people of Africa.\\nDan Weissmann:\\nJoseph Conrad wrote ‘Heart of Darkness’ based largely on his own experience in the Belgian Congo where ivory was the big product.\\nRoman Mars:\\nConrad called the whole enterprise, “The vilest scramble for loot that ever disfigured the history of human conscience.”\\nDan Weissmann:\\nAnd Conrad didn’t necessarily care about this part, but obviously the ivory trade was also terrible for elephants.\\nRobert Friedel:\\nSo what was, in fact, a pretty common animal in central Africa in the middle of the 19th century is becoming increasingly scarce by the 20th.\\nRoman Mars:\\nBy the time of World War I, the ivory supply crunch, the one that Michael Phelan had started worrying about 50 years before, had arrived.\\nDan Weissmann:\\nAnd around this time, the real significance of Hyatt’s celluloid had begun to show itself. It hadn’t worked for billiard balls. However-\\nRobert Friedel:\\nIt begins to inspire people to think about what artificial material might be available, what people could make, what people could invent.\\nRoman Mars:\\nIn 1907, a chemist named Leo Baekeland comes up with a new kind of plastic made from petroleum. He names it Bakelite after himself.\\nDan Weissmann:\\nAnd one cool thing about Bakelite, you can melt it. Mix in fillers.\\nRobert Friedel:\\nAnd it turns out that with that capability, you can vary the density, you can vary the elasticity and you can make a perfect billiard ball.\\nRoman Mars:\\nAnd so they finally replaced ivory balls with this new plastic, Bakelite.\\nDan Weissmann:\\nBy the 1940s, even top pool tournaments were being played with plastic balls, but by then pool had passed its peak. It crashed as the Depression began, and never regained its former prominence. The age of billiards was over.\\nRoman Mars:\\nAnd this post-billiards age, the age of plastics had really gotten into gear.\\nArchival Tape:\\n“For example, the handle of your toothbrush is probably plastic, so undoubtedly are the barrel of your fountain pen, the instrument panel in your car. And yes, these are just a few of more than 25,000 modern uses for plastics.”\\nDan Weissmann:\\nThat’s plastics, plural. By that time, you’ve got a bunch on the market. PVC, vinyl, polyethylene, plexiglass, nylon, and in labs, they’re discovering the stuff that would end up becoming Teflon and saran wrap.\\nRoman Mars:\\nAnd good old celluloid, the plastic that started at all, had been retired, even from the movies.\\nRobert Friedel:\\nIt was indispensable at the beginning of motion pictures, but it was highly dangerous and flammable.\\nDan Weissmann:\\nCelluloid film caused several disastrous and fatal fires in movie theaters. By 1934, a new form, cellulose acetate, had taken the place of Hyatt’s cellulose nitrate for film.\\nRoman Mars:\\nCelluloid, born out of billiards, was the first plastic. It ushered in a new age of modern products, but it never succeeded in revolutionizing the game of billiards. It did, however, revolutionize another table sport.\\nDan Weissmann:\\nPing pong.\\nRoman Mars:\\nBefore celluloid was invented, ping pong was played with something more closely resembling a golf ball, which as you can imagine, just didn’t have that perfect bounce.\\nDan Weissmann:\\nCelluloid ping pong balls were used for years, but finally got bumped from tournament play in 2013. The reason? They were a little too bouncy.\\nRoman Mars:\\nPoor celluloid, it just can’t win. Someday we’ll find the perfect home for you, my bouncy friend. 99% Invisible was produced this week by Dan Weissmann with Katie Mingle, Sam Greenspan, Avery Trufelman and me, Roman Mars. Special thanks to Dave Bond, who runs the Chicago Billiard Museum, an online museum, which has an amazing collection of billiards related documents and data and images. We’ll have a link on our website.\\n'},\n",
       " {'episode_number': 'Episode 163',\n",
       "  'title': 'The Gruen Effect',\n",
       "  'category': 'Cities',\n",
       "  'date': '05.05.15',\n",
       "  'producer': 'Avery Trufelman',\n",
       "  'url': 'https://99percentinvisible.org/episode/the-gruen-effect/',\n",
       "  'transcript': '\\nRoman Mars:\\nThis is 99% invisible. I’m Roman Mars.\\nRoman Mars:\\nWe’ve all done it. You go to the store for a pair of socks and come out with a mega-pack of soda. You go out to get shampoo and come back with a fancy razor. It’s hard to stick to what’s on your list. I challenge you to go to Ikea and leave with only the thing for which you came. Just try to buy a lamp without buying a cutting board. It can’t be done!\\nAvery Trufelman:\\nYou absolutely knew this, but retail spaces are designed to do this to you.\\nRoman Mars:\\nProducer Avery Trufelman.\\nAvery Trufelman:\\nThe store is trying to look so beautiful, so welcoming. The items so enticingly displayed, in such vast quantity that you cannot help but be drawn in and then drawn towards something you don’t need.\\nRoman Mars:\\nThis is the Gruen effect.\\nJeff Hardwick:\\nThe Gruen Effect, or sometimes called the Gruen transfer, it’s that moment when you walk into a store and the design of the store is so overwhelming and dazzling that you begin mindlessly consuming.\\nRoman Mars:\\nThe Gruen effect is named after Victor Gruen.\\nJeff Hardwick:\\nSo who was Gruen? He’s a complicated, complex, contradictory guy.\\nAvery Trufelman:\\nJeff Hardwick wrote the biography of Victor Gruen who was born Viktor Grünbaum.\\nJeff Hardwick:\\nBorn in Vienna in 1904, and he is Jewish in Vienna, leaves in 38.\\nRoman Mars:\\nGood call, Grünbaum.\\nJeff Hardwick:\\nAnd makes his way, eventually, to New York City.\\nAvery Trufelman:\\nOnce in New York, Gruen made a name for himself designing shops and retail spaces and this was a particular challenge during the lean years of the late thirties.\\nRoman Mars:\\nPeople had no money. They just wouldn’t go into shops at all.\\nAvery Trufelman:\\nBut Gruen figured out how to lure people inside. Basically by using amazingly appealing window displays.\\nJeff Hardwick:\\nYou would go into these window display areas, look at jewelry or handbags or chocolates and then you’d be tempted and lured into the store. That’s the Gruen effect.\\nRoman Mars:\\nGruen argued that good design equaled good profits.\\nJeff Hardwick:\\nAnd he equates those as one to one. If you do more, people are going to stay there longer and spend more money.\\nRoman Mars:\\nGruen started making storefronts all over the country and he moved from New York to Los Angeles in 1941.\\nAvery Trufelman:\\nGruen was from the beautiful city of Vienna, which is lined with shops and greenery and places to gather. He saw how most Americans were just riding around in their cars all the time, cut off from the city and from each other. And he knew this problem was even worse in the suburbs.\\nRoman Mars:\\nThe suburbs lacked what sociologist Ray Oldenburg calls third places. Think of home as your primary place, work as your second place. And that third place is where you go to build community, to hang out, to simply feel connected.\\nAvery Trufelman:\\nGruen wanted to give the American suburbs that third place.\\nVictor Gruen:\\n“The image of living in closer communication with other people. The image of having the possibility to walk to one place to another.”\\nRoman Mars:\\nThat’s archival footage of Gruen from the University of Wyoming.\\nVictor Gruen:\\n“The image of participating in events outside of your own little house has become a desired reflector.”\\nAvery Trufelman:\\nVictor Gruen imagined designing an environment full of greenery and shops, an indoor plaza, a modern forum, an island of connection in the middle of the sprawl. One that would only be accessible to pedestrians.\\nRoman Mars:\\nBecause, oh man, Victor Gruen hated cars.\\nJeff Hardwick:\\nHe rants and raves against cars continually.\\nVictor Gruen:\\n“One technologic event has swamped us. That is the event of the rubber-wheeled vehicle, the private car, the truck, the trailer as means of mass transportation. And their threat to human life and health is just as great as that of exposed sewer.”\\nRoman Mars:\\nIt’s hard to understand him with the tape hiss and the accent, but what Gruen is saying there is, “The threat of cars to human life and health is as great as the exposed sewer.” So Gruen’s objective was to get people to park their cars far away from these third places and walk and stroll within them.\\nAvery Trufelman:\\nAs Gruen saw it, his structure would be an architectural panacea. It would remedy environmental, commercial and sociological problems with the creation of a single building.\\nRoman Mars:\\nAnd so Gruen presented his solution for America: the shopping mall.\\nAvery Trufelman:\\nGruen actually wanted the shopping mall to be more than just shops.\\nJeff Hardwick:\\nHe wants them to be mixed-use. He wants apartments and offices or medical centers attached to the shopping center. He makes cases to have childcare facilities, libraries, bomb shelters, a whole range of different functions.\\nRoman Mars:\\nAnd Gruen dreamed and wrote about the enclosed shopping center way before he ever built one.\\nAvery Trufelman:\\nUntil he finally lands a commission for the very first indoor, climate-controlled shopping center.\\nRoman Mars:\\nIn Edina, Minnesota. A place not known for its welcoming climate.\\nArchival Tape:\\n“Southdale represents an entirely new and dramatic concept in retail merchandising.”\\nRoman Mars:\\nSouthdale Center opened in 1956 and it was the mother of all shopping malls, seriously. Gruen’s subsequent malls were all mostly based off this original Edina design.\\nJeff Hardwick:\\nWhen he’s doing the first enclosed shopping mall, Southdale in Edina, Minnesota but Gruen really emphasizes and what the media ends up celebrating is this massive center court.\\nArchival Tape:\\n“This court is enclosed and skylighted so that not only the stores but the shopping sidewalks, in fact the whole area in front of the stores, is air-conditioned and temperature-controlled. A year-round climate of 72 degrees.”\\nJeff Hardwick:\\nFor Gruen, he’s creating a town square.\\nAvery Trufelman:\\nSouthdale Center wasn’t quite mixed-use, like Gruen imagined. People didn’t live in it and something like a daycare center or a post office couldn’t afford that rent. But Southdale did have local shops of all kinds and plenty of shoppers.\\nArchival Tape:\\n“Southdale, tomorrow’s main street today.”\\nAvery Trufelman:\\nBut from the outside, Southdale Center is not much to look at. I mean it looks like a mall. It’s an ominous, amorphous boxy shape.\\nRoman Mars:\\nIn designing these shopping malls, Gruen and ended his razzle-dazzle storefronts and window displays.\\nAvery Trufelman:\\nSouthdale hardly has exterior windows at all.\\nJeff Hardwick:\\nHe moves away from the original concept that, in some ways they’re going to attract by being ostentatious.\\nAvery Trufelman:\\nThe draw now is what’s inside the mall.\\nJeff Hardwick:\\nIn Gruen’s mind, it should have pretty much of a blank facade, no signage on it, and then you enter that space and then you walk into the shopping center and that’s that sort of transformational Gruen transfer moment.\\nRoman Mars:\\nMalls are designed as these sort of suburban pilgrimage sites, which of course, you have to drive to.\\nJeff Hardwick:\\nIt’s a commitment. You’re driving 20, 30 minutes, you’re parking, you’re getting out of your car, you’re walking in.\\nAvery Trufelman:\\nGruen knew that Americans love to drive. So the mall was his compromise. You had to walk and stroll once you were inside, but the customers could drive over.\\nJeff Hardwick:\\nSo he just hates the automobile, but he never will acknowledge that he’s creating these shopping centers which are largely only accessible through cars.\\nRoman Mars:\\nGruen was right. Americans loved driving to his malls. He got commissions for them all over the country.\\nAvery Trufelman:\\nBut over time, Gruen sees that in erecting these malls – these tiny suburban cities – he’s helping to drain the real cities. And so for a while, Gruen shifts his focus to urban planning.\\nVictor Gruen:\\n“We went to rescue our cities, which because we have neglected are threatening to go to pieces.”\\nJeff Hardwick:\\nAnd so Gruen ends up being involved in urban renewal projects where he draws directly on some of the lessons learned in his suburban shopping malls and proposes bringing them back downtown.\\nRoman Mars:\\nMunicipalities hire Gruen and associates to make their downtowns more like malls.\\nAvery Trufelman:\\nGruen turns city centers into pedestrian-only spaces, full of public art and greenery and lined with shops. He made plans for Boulder, Fresno, Fort Worth, Kalamazoo. Actually his plan for Kalamazoo, became the first outdoor pedestrian shopping mall in the U.S.\\nRoman Mars:\\nHe even had a concept to turn Fifth Avenue into a pedestrian mall.\\nJeff Hardwick:\\nHe gets Manhattan to close down Fifth Avenue for a couple of weeks as a test.\\nAvery Trufelman:\\nBut a city’s downtown is not a mall. It’s not so easily “fixed”, not so perfectly designed and controlled. Cities weren’t going to become the pleasant, sterile shopping environments that Gruen wanted them to be.\\nJeff Hardwick:\\nAfter the riots of the 60s, he’s shocked and sort of taken aback by those and was very much unprepared for them. And I think that may have been somewhat of his reason for the retreat to Vienna.\\nRoman Mars:\\nIn 1968, Gruen moved from Los Angeles back to Vienna, back to the greenery and plazas he had been trying to imitate.\\nAvery Trufelman:\\nBut he could not escape his own creation.\\nJeff Hardwick:\\nThere’s a shopping mall that’s being built on the edge of Vienna, and he points to that as how that shopping mall is destroying downtown Vienna.\\nAvery Trufelman:\\nIn Gruen’s mind, Vienna was already perfectly planned. It didn’t need a mall like the broken American suburbs did. As he saw it, his original vision had been completely skewed.\\nJeff Hardwick:\\nAfter being in Vienna about 10 years, he gives a speech and writes a paper where he says, “I refuse to pay alimony for these bastard developments.”\\nRoman Mars:\\nVictor Gruen, the mall maker, became the foremost mall critic.\\nAvery Trufelman:\\nAnd meanwhile, America’s love affair with malls continued.\\nMONTAGE OF CLIPS\\nAvril Lavigne: “Do you want to crash the mall?”\\nMallrats: “What’s a pretty girl like you doing sitting alone in the middle of this monument to consumerism?”\\nRobin Sparkles (Let’s Go to the Mall): “Let’s go to the mall, everybody.”\\nEllen Dunham Jones:\\nI know I remember in my own experience growing up in New Jersey when the first mall opened anywhere near me when I was in high school.\\nAvery Trufelman:\\nThis is Ellen Dunham Jones. She’s a professor of architecture and urban design at Georgia Tech.\\nEllen Dunham Jones:\\nIt was cool to go to the mall, but I mean literally it was air-conditioned. My home wasn’t air-conditioned. My school wasn’t air-conditioned. Today, most of us are spending our days and our nights in completely thermally-controlled environments. A lot of us are craving being able to be outdoors.\\nRoman Mars:\\nIn recent decades, our tastes have veered away from climate-controlled environments and away from the indoor mall.\\nEllen Dunham Jones:\\nMall construction actually peaked in 1990. It’s been declining ever since, and by 2006 is really the last brand new kind of standard, conventional mall that’s been built in the U.S.\\nAvery Trufelman:\\nAnd a new product has entered the scene. A kind of shopping center that the ICSC, the International Council of Shopping Centers calls, a lifestyle center.\\nEllen Dunham Jones:\\nLifestyle centers started appearing in the 90s and they tend to be open-air so you don’t have that roof anymore, but you have a lot of boutiques and a lot more restaurants.\\nRoman Mars:\\nLifestyle centers are malls disguised as main streets and even though they’re full of chain stores, lifestyle centers are sunny and walkable and bustling, and kind of what Victor Gruen imagined.\\nAvery Trufelman:\\nAnd some of the old-style indoor shopping malls are being repurposed.\\nEllen Dunham Jones:\\nSeveral of them are being retrofitted into Hispanic community centers.\\nAvery Trufelman:\\nLike in Plaza Fiesta, outside of Atlanta.\\nEllen Dunham Jones:\\nA lot of the stores have been cut up into much smaller mom-and-pop, small shops selling Western wear, selling quinceanera dresses.\\nAvery Trufelman:\\nPlaza Fiesta also has a steady events calendar of performances.\\nRoman Mars:\\nAnd this too was kind of what Gruen imagined. These sort of community malls are truly places to gather and spend money in the shell of the failed design.\\nJeff Hardwick:\\nMost people, architectural historians especially, think Gruen was a horrible architect and you know, I can see where they’re coming from. I mean his exteriors of his buildings are uniformly boring, but for Gruen that wasn’t the point. It was the interiors that were really the point.\\nAvery Trufelman:\\nThose fountains, the cheesy statues, the elevator music piped in through all those speakers. Those are all part of the Gruen effect. And they helped turn shopping malls into spaces where we felt comfortable staying and spending time and money.\\nRoman Mars:\\nA lot of the original indoor malls are abandoned now. Seriously, like some of them are growing weeds inside. There’s a website that’s become sort of a graveyard of dead malls called deadmalls.com. Users can log on and submit stories of the dead malls in their towns. There are around 450 malls listed there, submitted as sort of oral histories.\\nEllen Dunham Jones:\\nIn particular, what’s interesting about deadmalls.com is how nostalgic a lot of this is and it does make sense. In so many suburban communities, the mall became the de facto town center. It was really the center of social life other than the school. I would be very sad if all of Victor Gruen’s malls were demolished. We should certainly work to preserve, at least one.\\nRoman Mars:\\nThe most famous mall in Minnesota may be the Mall of America with its rollercoaster, its zipline, its aquarium and waterpark, but the most architecturally significant mall, its grandfather, is the one that’s just a 12-minute drive away in Edina.\\nRoman Mars:\\nJeff Hardwick’s book is called ‘Mall Maker: Victor Gruen, Architect of an American Dream,” and Ellen Dunham Jones’s book is called ‘Retrofitting Suburbia.” Special thanks to Claire Doherty for research help.\\n'},\n",
       " {'episode_number': 'Episode 390',\n",
       "  'title': 'Fraktur',\n",
       "  'category': 'History',\n",
       "  'date': '02.18.20',\n",
       "  'producer': '99pi',\n",
       "  'url': 'https://99percentinvisible.org/episode/fraktur/',\n",
       "  'transcript': '\\nRoman Mars:\\nThis is 99% Invisible. I’m Roman Mars.\\nRoman Mars:\\nEarly one Monday this past December, Peter Dörfell started his week the way most of us do, which is to say, reluctantly.\\nPeter Dörfell:\\nSo it was a normal Monday morning. I was going to go to work and I’ve only been awake for like half an hour or something, so I was still a bit woozy.\\nRoman Mars:\\nPeter lives in Dresden, Germany, where he works in elder care visiting clients at their homes and to do that, he usually takes the bus, but that morning he noticed something unusual as he boarded.\\nPeter Dörfell:\\nWhen I got on the bus, I see that the bus driver had put up a sign inside of the bus that said in German ‘Diesen Bus Steuert ein Deutscher Fahrer,’ which means: ‘This bus is driven by a German driver.’\\nKevin Caners:\\nA homemade sign saying ‘this bus is driven by a German driver,’ was not the kind of thing Peter was used to seeing on his daily commute.\\nRoman Mars:\\nThat’s reporter Kevin Caners.\\nKevin Caners:\\nBut to Peter, the driver’s message was pretty clear.\\nPeter Dörfell:\\nI can only interpret that the person who put up the sign would have said. But the implication to me was this is a good bus. You do not have to worry. You can talk to me in German because I am one of the good ones and not a foreigner.\\nRoman Mars:\\nBut what really drove the message of this sign home was not just the words but the typeface they were printed in.\\nKevin Caners:\\nA typeface from a larger family of typefaces once used throughout Germany and commonly referred to as Fraktur.\\nRoman Mars:\\nIn which in English goes by a different name, blackletter.\\nKevin Caners:\\nBlackletter is the type of old-timey Gothic typeface that you often see used for the bold front titles of newspapers like the ‘New York Times’ or ‘Washington Post.’ You might also see it on tattoos or the T-shirts of heavy metal bands. Put it on a page and it brings to mind the time of castles, knights and feather quills.\\nRoman Mars:\\nBut for many people, especially in Europe, blackletter is most closely associated with one thing. It’s the Nazi font.\\nPeter Dörfell:\\nI’m not that good with history and stuff, but what I know is that the font that was used by Nazi Germany, really, really, looks the same way as this.\\nArchival Tape:\\n“October of 1938, Adolf Hitler made his triumphant entrance into Czechoslovakia’s Sudetenland. Just days earlier, the world was at the brink of war and in France and Great Britain reluctantly signed on to the Munich Pact.”\\nRoman Mars:\\nIf you’ve ever caught even one minute of the ‘History Channel’ or really any documentary about World War II, you have seen this typeface on Nazi posters, on Nazi office buildings, on Nazi roadwork signs, usually saying something like ‘Verboten’ with a big exclamation mark.\\nKevin Caners:\\nToday in Germany, blackletter typefaces are frequently used by Neo-Nazi groups and for many Germans, they bring to mind the dark times of the country’s fascist past.\\nRoman Mars:\\nWhich is why it was pretty clear to Peter and the other passengers on the bus what was going on with this bus driver’s sign.\\nFlorian Hardwig:\\nThe message by itself is not welcoming and has this nationalist tone, but the font choice adds to that.\\nKevin Caners:\\nFlorian Hardwig is a graphic designer in Berlin and the editor of a website called, ‘Fonts in Us.’ He says that in Germany when it’s not being used on a band tee or masthead, blackletter has a very specific set of connotations.\\nFlorian Hardwig:\\nThe blackletter typefaces as a genre have been associated with German nationalism for a long time and everybody who sees them today knows that it’s not a standard choice. It sends a signal emphasizing the ‘Germanness.’\\nPeter Dörfell:\\nEven if it was in a neutral font, it would still have been a problematic thing, but it’s kind of like the cherry on top. The one thing that really drives the point home.\\nRoman Mars:\\nThe sign that Peter saw that day would end up causing a big stir in Germany and get folded into an ongoing debate surrounding racism, nationalism, and culture. A debate in which the use of blackletter often serves as a kind of symbolic dividing line.\\nKevin Caners:\\nToday, depending on one’s perspective, blackletter can either represent German culture’s rich and proud heritage or alternatively symbolize everything that’s wrong with it. But to understand how people’s feelings about a simple typeface got to this point, we need to go back to the moment of its birth.\\nRoman Mars:\\nBecause once upon a time in that bygone era of knights and castles and feather quills, blackletter wasn’t limited to Germany. It wasn’t even Germanic. Instead, it was used all across Europe.\\nKevin Caners:\\nBlackletter may seem incredibly ornate like it was created for the sole purpose of turning letterforms into little individual flourishes of art. It definitely does not seem like a common means of communication.\\nRoman Mars:\\nBut back in the Middle Ages, blackletter with its angular forms was actually considered practical, especially for monastic scribes copying out entire books by hand.\\nDan Reynolds:\\nBlackletter initially developed in the Middle Ages because forms that had these kinds of angles were easier to write more rhythmically and correctly then rounded forms.\\nKevin Caners:\\nDan Reynolds is an American type designer and historian who has been living in Germany for the last two decades and he says that today we’re used to typefaces with perfectly rounded curves. Think of our O’s, U’s, P’s and C’s. But while these shapes look easy enough to draw, if you’re using a quill to draw out thousands of them, page after page, they’re not.\\nRoman Mars:\\nAnd then just as now, readers valued standardization in the text. Every letter, even the rounded ones had to look exactly the same, but it was hard for a monk copying out a long text to draw consistently perfect circles.\\nDan Reynolds:\\nSo blackletter writing styles probably arose so that the products would be more even in their appearance and probably also faster to produce.\\nRoman Mars:\\nIf you were a scribe, it was a lot easier to produce all those O’s and U’s and C’s out of a series of short straight lines.\\nKevin Caners:\\nThe technique of using straight lines instead of perfectly rounded curves gave the letters a fragmented appearance, which is actually how Germany’s most common form of blackletter type would get its name, Fraktur.\\nFlorian Hardwig:\\nThat’s the Latin term for ‘broken’ because the letterforms have these broken angle curves.\\nKevin Caners:\\nBlackletter was first developed in France in the 12th century, but within a few hundred years it had become standard throughout Europe. It wasn’t even really a stylistic choice. It was just what words looked like and went unquestioned.\\nSusan Reed:\\nThat was what people thought of when they thought of writing, when they thought of text.\\nKevin Caners:\\nSusan Reed is head of Germanic studies at the British Library and she says that blackletter became so ingrained in the culture that even after it stopped being needed, people kept using it.\\nSusan Reed:\\nAnd so when the printing press was introduced, most of the early typefaces were some variety of blackletter typeface.\\nRoman Mars:\\nAs with so many big leaps in technology, the printing press started off by borrowing heavily on the design conventions that came before it, even though the new operating principles made those conventions unnecessary.\\nKevin Caners:\\nEven Gutenberg, the man who developed the first popular printing presses was no exception. He went for a Textura, a narrow, very angular blackletter typeface that was also used by scribes at that time.\\nRoman Mars:\\nAt first, the printing press appeared to only further cement blackletter status as Europe’s dominant form of writing, but soon it would be challenged by a very different kind of typeface, Roman. Kind of rolls off the tongue.\\nKevin Caners:\\nAnd trust me, you’ve definitely seen Roman type before too.\\nDan Reynolds:\\nIt’s the style of letter that’s associated with Imperial Rome.\\nRoman Mars:\\nBut just like the letters chiseled onto the side of an ancient marble column, Roman letters are sparer and more vertical than their blackletter counterparts. You’d also probably find them a lot easier to read and there’s a reason for that.\\nDan Reynolds:\\nThe letters are instantly recognizable as they look like the letters that we’ve been reading our entire lives.\\nKevin Caners:\\nToday, almost all major Western typefaces are Roman, from Times New Roman to Arial. Every time you open up Microsoft Word or Google Docs, you’re using Roman type. It’s our era’s blackletter. It’s just what writing looks like.\\nSusan Reed:\\nYes. I mean it’s a strange thing. People sort of ask, why Fraktur became the default typeface in Germany and I always almost want to flip the question on its head and say, why did Roman become the default everywhere else when most printing started in blackletter type?\\nRoman Mars:\\nRoman script might have stayed lost to history, but right around the same time, Gutenberg was printing blackletter bibles in Germany, something else was happening in Italy. Renaissance scholars were rediscovering ancient Roman texts.\\nDan Reynolds:\\nYou had this rediscovery and the renaissance of classical literature and the classical world and classical letterforms were being brought back.\\nKevin Caners:\\nCommitted to bringing back the culture and wisdom of antiquity, Italian scholars began consciously developing their own Roman-style letters, which drew heavily on the classical forms they encountered.\\nSusan Reed:\\nAnd so when they started printing classical texts, then they started using those as well.\\nKevin Caners:\\nAt first, Roman type was used strictly for texts written in Latin, the language of antiquity and the church, but pretty quickly and for reasons that remain a little hazy, Roman type broke out of its Latin cage and kind of took over.\\nRoman Mars:\\nBy the end of the 16th century, Roman type had become common in the written vernacular languages of France and Spain. England followed suit in the 17th century. The Netherlands and Sweden in the 18th.\\nKevin Caners:\\nIt had become the very same thing that blackletter had been before, ubiquitous and unquestioned.\\nRoman Mars:\\nBut even as Roman became the Western world’s dominant form of writing, Germany and the German language stayed resolutely committed to blackletter. An island of broken script in a sea of curves.\\nKevin Caners:\\nAnd it’s mostly thanks to the bestselling author and the history of the German language, Martin Luther.\\nMonty Python Clip:\\n“The adventures of Martin Luther.”\\nKevin Caners:\\nLuther and the Protestant reformation he set in motion in Germany threw everything that had to do with Rome and the Catholic church into doubt.\\nArchival Tape:\\n“The partisan reformer whose reassessment of the role of individual in Christian belief shook the foundations of a post-feud Germany in the grip of the 16th century.”\\nKevin Caners:\\nAnd in the process, he gave German as a written language, a big boost.\\nDan Reynolds:\\nLuther, by writing so much and trying to write to as broad as possible audience, really codified a lot of what written German was.\\nKevin Caners:\\nLuther and other German Protestants were especially keen to distinguish German writing from the writing of Catholic Italy, which they saw as corrupt, even evil, and that included the church’s favorite typeface.\\nDan Reynolds:\\nSo there was an explicit casting of Roman type as being associated with the Pope and with Catholicism and things that were not German. And this was at least by the time Luther is getting to his bible editions, this is an explicit wish that they be set in German type and not in Roman type.\\nRoman Mars:\\nBut there was one German typeface in particular which would end up being used more than any other, Fraktur.\\nKevin Caners:\\nFraktur came to be seen as uniquely German, almost as if it were imbued with special dramatic values. So much so that people would eventually refer to all of German blackletter typefaces as Fraktur.\\nRoman Mars:\\nThis association of Fraktur with all things good and Roman with all things bad became so strong that in some of Luther’s German Bible editions, unpleasant words like wrath and devil and punishment were set in a Roman typeface to distinguish it from the rest of the text, which stayed in Fraktur.\\nKevin Caners:\\nLater, German texts would go even further, applying the rule if even part of a word was borrowed from another language.\\nSusan Reed:\\nAnd you actually get these other wonderful things where there’s a foreign loan word, as say a Latin stem and German suffix, the Latin stem within the same word will be printed in Roman letters and then the ending in Fraktur.\\nDan Reynolds:\\nSo this is a clear break typographically on the page from Rome and just as there wasn’t going to be a reconciliation between Germany and Italy, there wasn’t going to be a typographic reconciliation either.\\nRoman Mars:\\nAt first, blackletter remained popular in many parts of Protestant Europe, but one by one, the other Protestant countries began to give in to the temptations of Roman type until finally, Germany was the lone holdout.\\nKevin Caners:\\nIn part because, unlike the people in those other Protestant countries, Germany remained a fragmented jumble of smaller states until the late 1800s. So Fraktur came to be seen as one of the things holding German national identity together, especially in the 19th century when the country was invaded by Napoleon.\\nRoman Mars:\\nThe occupying French had their Roman letters and the Germans had Fraktur.\\nSusan Reed:\\nGermany as a nation without nationhood as a collection of small, quite fragmented states, needed these other symbols of national identity, and I think this is when Fraktur particularly becomes associated with Germany and the German language and German culture.\\nKevin Caners:\\nMany came to believe that where there was no Fraktur, there was no Germany, including the mother of Germany’s greatest writer.\\nSusan Reed:\\nGoethe’s mother, she actually described Roman letters as fatal, as if they’re almost sort of painful for her to read. I think that’s something that’s often quoted as evidence of this naturalness of Fraktur if Germany’s greatest writer’s mother approved of it.\\nKevin Caners:\\nIn 1871, when Germany finally unified, Fraktur became the official government typeface and Otto Von Bismarck, the first chancellor was such a staunch supporter that he said he would refuse to read any German book not set in German type.\\nRoman Mars:\\nBut right around the time they finally got their own country, a growing contingent of Germans began to wonder if they really needed their own typeface.\\nKevin Caners:\\nLiberal, cosmopolitan and future-facing, these Germans came to feel it was silly to keep using letterforms from the Middle Ages. They began pressing for Germany to drop its beloved Fraktur and move to Roman type.\\nDan Reynolds:\\nThere were people sort of in the spirit of progress and modernism who thought that this is crazy, we should be a more international country where we’re connected with our neighbors, we have business ties and cultural ties.\\nKevin Caners:\\nIncreasingly academic and scientific papers intended for foreign distribution were being printed in Roman type and as the world became more international, Roman type also started seeping in. It began to be taught in schools alongside Fraktur, and by 1891 about 40% of German books were being printed in Roman.\\nRoman Mars:\\nBut more conservative Germans pushed back. They insisted that blackletter was and should remain a cultural staple.\\nKevin Caners:\\nIn 1911, the German Reichstag actually held a vote on whether the country should switch over by having Roman replace Fraktur as the official typeface in German schools and government offices. But after a fierce debate, the legislation didn’t pass. German topography had reached a stalemate with neither side willing to budge.\\nRoman Mars:\\nEven by the end of the 1920s, in the era of telephones, radios, refrigerators, and jazz, traditional Fraktur street signs could be seen hanging next to art deco posters featuring sans serif Roman fonts.\\nFlorian Hardwig:\\nIt was a dual thing. If you look at photographs from the cityscape in the 1880s or 1890s, you would see both letterforms and maybe even more on Roman type because that was the style associated with commerce and advertising.\\nKevin Caners:\\nIt was as though there were two separate typographical realities representing two different Germanies.\\nRoman Mars:\\nFraktur would end up losing the struggle for Germany’s soul, but it wasn’t the liberal freedom-loving over-educated cosmopolitans who finally broke the impasse. Instead, it was the most ardent German nationalist of all time.\\nArchival Tape:\\n“The responsibility lies on the shoulders of one man, by his latest act of naked aggression, Hitler has committed a crime against the whole human race.”\\nKevin Caners:\\nIn 1933, the Nazi party rose to power on a wave of German chauvinism. And at first, this seemed like great news for those in favor of traditional blackletter typefaces.\\nArchival Tape:\\n“He has rejected every appeal for a peaceful settlement. All have been rebuffed by the leader of the German Nazis in his senseless criminal greed for power.”\\nKevin Caners:\\nFraktur was in, Roman was out.\\nDan Reynolds:\\nThere was a lot of push from certain areas within the government and within the party to use the moment in 1933 to ram this change through, to get rid of Roman type and really make everything be blackletter.\\nKevin Caners:\\nDirectives were given in the interior ministry that said, from now on, they would use blackletter typewriters for everything. Many publishers changed over and the proportion of books and newspapers printed in Fraktur type grew substantially.\\nDan Reynolds:\\nAnd you see placards that tell Germans to be German, to think German, to even be German in their writing. And of course, these are in Fraktur.\\nRoman Mars:\\nThere was just one problem. Adolf Hitler kind of hated Fraktur.\\nAdolf Hitler Speech:\\n[speaking in German]\\nSusan Reed:\\nSo in 1934, he actually made a speech in which he criticized the obsession with outward trappings of Germanness among which he included Gothic writing.\\nKevin Caners:\\nThis gothic romanticism, Hitler says, is ill-suited to our age of iron glass and steel.\\nAdolf Hitler Speech (continued):\\n[speaking in German]\\nRoman Mars:\\nIt wasn’t that Hitler wasn’t into traditional German values. He just didn’t think that should mean being old-fashioned.\\nDan Reynolds:\\nIt’s hard to have everyone living in the mountains, on farms with their cows and their sheep and their goats and also working in factories to build high-tech airplanes and rockets.\\nSusan Reed:\\nAnd when the Olympics came to Berlin in 1936, he insisted that a lot of the publicity and the posters for that show it should be in Roman rather than Fraktur type. Because you were bringing the world to see the new Germany.\\nKevin Caners:\\nBesides, Hitler thought his fascist values shouldn’t just apply to Germans. The Third Reich was supposed to span the globe.\\nSusan Reed:\\nHitler actually said that German was becoming the world language and within a hundred years everybody would be speaking German.\\nRoman Mars:\\nBut even Hitler’s delusions of grandeur had their limits. He knew that if he wanted to rule over the world, he would have to use a typeface the rest of the world could actually read.\\nKevin Caners:\\nAnd so in 1941, an edict was circulated to all publishers and printers on behalf of the furor himself decreeing that Roman type become the standard type throughout Germany.\\nRoman Mars:\\nEffective immediately. Neither Fraktur nor its cursive counterparts were to be taught in schools, used in government documents or appear on street signs. All magazines and newspapers were likewise expected to change over to the Roman script.\\nSusan Reed:\\nWhich was quite an extraordinary thing to do in the middle of a world war. It’s very expensive to just suddenly go over from one typeface to another universally.\\nDan Reynolds:\\nAnd the explanation in a letter is that – shock, horror – they had found out that blackletter was actually a Jewish invention and that it had to be dropped immediately. This wasn’t true, but it was an unassailable argument. It was impossible to come back from that.\\nKevin Caners:\\nFraktur didn’t finish everywhere overnight, but with the edict, it quickly fell out of use and it would never fully recover.\\nRoman Mars:\\nThe Nazis brought an end to blackletter’s 800 year run as a common form of writing. So it’s ironic that the typeface Hitler banned and personally disliked remained stubbornly associated with them.\\nKevin Caners:\\nPerhaps it’s because the Nazis promoted Fraktur so heavily before changing course, but it’s also just because they were German nationalists and it was a traditional German typeface. Maybe it shouldn’t be surprising that they’ve found it hard to shake the connection.\\nRoman Mars:\\nEspecially telling was the edict itself. The one banning Fraktur. Although the memorandum was typed in Roman font, the Nazi letterhead at the top was printed in blackletter.\\nKevin Caners:\\nBy 1945 when Germany was finally defeated, no one wanted anything to do with the “Nazi font.”\\nSusan Reed:\\nAnd by the 1950s it had pretty much died out. I think I saw some statistics that between 1951 and 1979 there was something like 34 books published in Fraktur in that whole period, so that’s quite astonishing.\\nRoman Mars:\\nWhether or not it’s okay to use blackletter today is a complicated question, especially in Germany. It depends on the context and it doesn’t always make sense.\\nFlorian Hardwig:\\nYeah. Fraktur on a restaurant sign or on a beer label is invisible and you can Fraktur mastheads on newspapers like ‘New York Times’ because that’s normal. That’s what we’re used to.\\nKevin Caners:\\nConsumer items and commercial ventures that want to evoke a more innocent sense of tradition and quality often use blackletter without any trouble. The same goes for heavy metal bands and other people that want to play up its medieval or gothic qualities.\\nRoman Mars:\\nBut there are also contexts where its use is not innocent and can’t be forgiven has naive.\\nKevin Caners:\\nWhen Peter Dörfell, the bus rider in Dresden, saw that sign, the one that said, “This bus is driven by a German driver.” It was printed in blackletter and Peter knew exactly what it was meant to communicate.\\nPeter Dörfell:\\nLike if I were the person that was potentially targeted by potential Nazis, I would definitely take the next bus.\\nKevin Caners:\\nIn fact, the sight of the sign and of the font was so alarming that there was no way he could just let it go.\\nPeter Dörfell:\\nSo I was thinking to myself, what should I do? Should I talk to the guy? I didn’t know what to do, but then I thought, wait, this is an official public bus. I don’t think that’s even legal.\\nKevin Caners:\\nWhen Peter got off the bus, he took a picture of the homemade sign on his phone and tweeted it at the Dresden Public Transit Authority asking essentially ‘what the hell is this?’\\nPeter Dörfell:\\nAnd they responded like really quickly, a half an hour later. And they were like, “Yeah, somebody already told us that. We don’t know how that could happen. We already took the sign down and the bus driver will not be driving today anymore.” So I was like, “All right, thanks for the quick answer. Good thing.” And I thought that was it.\\nRoman Mars:\\nBut a little later, a journalist messaged Peter on Twitter.\\nPeter Dörfell:\\nAnd it’s like, “Hey, I’m with the press. Do you want to do an interview?” I’m kind of like, “Okay, sure.” And from there on it just kind of spiraled.\\nKevin Caners:\\nThe story appeared on the local news. Then on the national news when the driver was let go, some German nationalists wrote tweets in the driver’s defense.\\nPeter Dörfell:\\nThen some right-wing politicians retweeted it. Then I got some hate mail. Ugh…\\nRoman Mars:\\nIn the end, it took a couple of weeks for everything to die down. Although that doesn’t mean the larger issues swirling around Fraktur are anywhere near resolved.\\nKevin Caners:\\nAlt-right nationalism remains on the rise in Germany and especially since the refugee crisis, controversies surrounding the use of the typeface seem to be happening with more frequency. No mainstream conservative politician publicly uses Fraktur, but in 2017 a police anti-terror unit in the state of Saxony was sanctioned for using a logo on the interior of one of their specialized vehicles that featured a blackletter font.\\nRoman Mars:\\nMostly though the only people openly using Fraktur are Neo-Nazi groups promoting their hyper-traditional version of German nationalism. Apparently most of them still don’t realize that Hitler considered their favorite typeface hopelessly tacky and provincial.\\nKevin Caners:\\nAnd many nationalists don’t even understand which typeface it is they’re using. The Dresden bus driver, for example, may have thought his sign was in Fraktur. It was actually in Old English, a blackletter typeface that has no historical connection to Germany.\\nRoman Mars:\\nOf course, if Peter’s story about the bus driver and his blackletter sign demonstrates anything, it’s that no matter what the real historical facts are, Fraktur will never return to the mainstream. For better or worse, it’s going to keep on being the Nazi font.\\nFlorian Hardwig:\\nThis long tradition of centuries of use is kind of forgotten and all we can see now are these 12 years of Nazis and yeah, you can’t change that. It has happened and that’s the way it is and it won’t come back.\\nRoman Mars:\\nBut even if they don’t think it should return to everyday use, those who study Fraktur don’t want to see it completely forgotten either.\\nKevin Caners:\\nAnd perhaps no one more so than Hanno Blohm.\\nHanno Blohm:\\n“Meinen Namen kennen Sie. Hanno Blohm Hanno Wilhelm Blohm bin ich genannt worden.”\\nKevin Caners:\\nHanno is a 76-year-old retired teacher and is the president of the Association for German Script and Language which is dedicated to preserving and improving people’s knowledge of Fraktur and other old writing styles.\\nHanno Blohm:\\n“Und dass sie das so machen, zeigt nur, dass sie von der Geschichte unserer Sprache, unserer Schrift nichts wissen. Die wissen, dass nicht.”\\nKevin Caners:\\nHe says that the fact that Neo-Nazis used blackletter typefaces only shows that they know nothing about Germany’s history.\\nRoman Mars:\\nAnd much of this historical ignorance is for a deeply ironic reason. Most Germans have trouble reading older German documents precisely because they are in Fraktur.\\nKevin Caners:\\nYou could probably read something printed in Fraktur, but even then only with a bit of effort and patience and handwritten Fraktur is much more difficult. It’s basically illegible for most people today. As a consequence, many of the books and letters and diaries of the past have become harder to connect with.\\nRoman Mars:\\nWhich is why one of the association’s main activities today and the one Hanno is most passionate about is teaching children how to read and write old German cursive.\\nKevin Caners:\\nDuring our interview, he shows me some correspondence from the 19th century whose handwriting I can’t make heads or tails of and I say, “That looks hard.”\\nHanno Blohm:\\n“Schreibschrift bis ins 19. Jahrhundert. Ja. Das kann man hier. Hoch. Die Hände rein. Für mich ist das nicht einfach.”\\nKevin Caners:\\nBut Hanno assures me I’d learn fast.\\nHanno Blohm:\\n“Sie sehen, Sie würden das ganz schnell lernen, ganz schnell, ganz schnell.”\\nKevin Caners:\\nThat I’d be amazed at myself.\\nHanno Blohm:\\n“Ja, Sie würden über sich selbst staunen.”\\nRoman Mars:\\nHanno hopes documents like this one will help people avoid making the mistakes of previous generations. After all, at 76 he’s old enough to have lived through the war when as a small child, his city was destroyed in a bombing raid and his family had to be evacuated.\\nHanno Blohm:\\n“Wer nicht weiß, woher er kommt.”\\nKevin Caners:\\nSo he tells me how important it is that we learn from history-\\nHanno Blohm:\\n“Der weiß auch nicht, in welche Richtung er künftig gehen sollte.”\\nKevin Caners:\\nAbout war and peace and about how to get along and about the Germans of the past, like Luther and Goethe who wrote about all these things and mostly in Fraktur.\\nRoman Mars:\\nCultural wars and fights about nationalism aren’t just for fonts. We have these arguments about buildings too. We’re talking about making federal buildings beautiful again after this.\\n[BREAK]\\nRoman Mars:\\nAs we were producing the story of Fraktur and its starring role in this centuries-long drama of German nationalism, a contemporary story hit the news that was also at the intersection of design and nationalism. In this case, the story was about the architecture of US federal buildings. On February 4th, 2020, ‘Architectural Record’ published a story commenting on a draft of an executive order that they got a hold of that called for the White House to adopt federal guidelines to ensure that “the classical architectural style shall be the preferred and default style,” when it came to new and upgraded federal buildings.\\nRoman Mars:\\nThe order was authored by a group called the National Civic Art Society and it was titled ‘Making Federal Buildings Beautiful Again,’ in case you were at all confused as to the audience that this particular order was pandering to. Our friend, the architecture critic, and celebrated McMansion skeptic Kate Wagner wrote a column in ‘The New Republic’ about it and I called her up to talk about it. The first thing I did was ask her what the authors of this order mean when they say that all federal buildings should it be in the classical architectural style.\\nKate Wagner:\\nSo it’s kind of funny. Their idea of what classicism is basically just anything inspired by Greek and Roman architecture, but also 19th-century Victorian kitsch is fine too. Because they included the Eisenhower building, which is this ridiculous second empire building with a million columns. And I hate it so much and it’s so ugly, but they were like, “This is great architecture.”\\nRoman Mars:\\nWell for the record, I kind of like the Eisenhower building – it’s pretty fussy and very French – but the point is that when people extol the greatness of classical architecture, they’re basically talking about columns.\\nKate Wagner:\\nYep. They’re basically talking about columns.\\nRoman Mars:\\nThis broad advocacy for classical architecture is in opposition to more modernist or brutalist styles.\\nKate Wagner:\\nThey believe that modernism is degenerate and it’s ruining everything and people hate it. And we need to free people from modernism because it’s not the architecture of the people or whatever, which is of course ridiculous. How many people go to see Fallingwater literally every year? I don’t know.\\nRoman Mars:\\nSo this proposed order is a 180-degree reversal to a seminal document written in 1962 by Daniel Patrick Moynihan called ‘Guiding Principles for Federal Architecture’ that explicitly stated, “Design must flow from the architectural profession to the government and not vice versa.”\\nKate Wagner:\\nYeah, so there was basically a mandate in that document that said an official architectural style must be avoided and that federal buildings and new buildings should be exemplary of the time in which they are built, the opposite in spirit to the proposed executive order.\\nRoman Mars:\\nThe architecture community reacted very strongly to this proposal, and I should stress here that this is not an official proposal from the White House. It’s a draft of a proposal that one influential group hopes the White House will adopt, but people have taken it very seriously. The American Institute of Architects released this statement, “The AIA strongly opposes uniform style mandates for federal architecture. Architecture should be designed for the specific communities that it serves, reflecting our rich nations, diverse places, thought, culture and climates. Architects are committed to honoring our past as well as reflecting our future progress, protecting the freedom of thought and expression that are essential to democracy.” Beyond the codification of one federal style, the architecture community objected to one aspect of the order in particular.\\nKate Wagner:\\nThis order would allow Trump to create a “president’s committee for the re-beautification of federal architecture,” which is such a trolley name, and which would enforce this classical design mandate. And this panel would exclude, “artists, architects, engineers, art or architecture critics, members of the building industry or any other members of the public that are affiliated with any interest group or organization involved in architecture.” So basically anyone who works in architecture, has anything to do with architecture is not allowed to comment on architecture in this panel. So of course, everyone is mad. The AIA is mad, the preservationists are mad. Kate Wagner, the architecture critic is mad.\\nRoman Mars:\\nThe objection from the architectural community, including yourself, is not an objection to classical architecture, right?\\nKate Wagner:\\nNo classical architecture is great. Ever since architecture has existed, there have been architectural revivals of past styles. I mean it is a debate that frames the history of architecture and the debate is commonly known as the ancients versus the moderns.\\nRoman Mars:\\nAnd that debate is like a healthy debate.\\nKate Wagner:\\nIt’s a healthy debate.\\nRoman Mars:\\nIt’s part of architecture, it’s part of culture.\\nKate Wagner:\\nYeah, exactly. When do we look towards the past for architectural ideas, and when do we push forward through various integrations of those ideas together in a sort of eclectic mash, or furthering technological progress. I mean it’s one of the classic debates of architecture. But the thing is, is that classicism is… I mean, classical buildings are beautiful, obviously, and it’s important that architects be trained in classicism, and it’s important that a lot of architects go on to study classicism and to practice building classical buildings. Because we always need people to, for example, make additions to historical buildings, make restorations to historical buildings, to lecture on historical buildings. To work across other fields, including anthropology and archeology, to talk about how historical buildings may have been in the past. I mean it’s a really central and important part of architecture.\\nKate Wagner:\\nThat being said, time always moves forward and architecture historically and today has always been a conversation between past and present. Not a dogmatic argument between past and present, though that has happened. That’s what preservation is supposed to be. It’s not supposed to be making a moth-balled museum of every building. It’s how do we reconcile historical architecture with contemporary needs, with contemporary economics, with contemporary politics. That’s what preservation does and modernism is included in that. The problem is not classical architecture. The problem is that there’s a certain type of chud online who thinks that classical architecture is proof that Western society is better than other societies. And that we had a beautiful Western society that was infallible but crumbled under globalization, or immigration, or whatever right-wing crypto-fascist element you think ruined columns.\\nRoman Mars:\\nThe one and only Kate Wagner. You can find her writing at ‘The New Republic’ and mcmansionhell.com. If you want to hear more from her, she’s the star of episode number 232 of 99PI. It’s called ‘McMansion Hell.’ It’s one of my favorites.\\n'}]"
      ]
     },
     "execution_count": 152,
     "metadata": {},
     "output_type": "execute_result"
    }
   ],
   "source": [
    "nn_eps"
   ]
  },
  {
   "cell_type": "code",
   "execution_count": 153,
   "metadata": {},
   "outputs": [
    {
     "data": {
      "text/plain": [
       "<pymongo.results.InsertManyResult at 0x112aec140>"
      ]
     },
     "execution_count": 153,
     "metadata": {},
     "output_type": "execute_result"
    }
   ],
   "source": [
    "db.ninetynine.insert_many(nn_eps)"
   ]
  },
  {
   "cell_type": "markdown",
   "metadata": {},
   "source": [
    "### Update some titles\n",
    "some of the title were doubled up for two parters"
   ]
  },
  {
   "cell_type": "code",
   "execution_count": 698,
   "metadata": {},
   "outputs": [
    {
     "data": {
      "text/plain": [
       "<pymongo.results.UpdateResult at 0x3755e9c730>"
      ]
     },
     "execution_count": 698,
     "metadata": {},
     "output_type": "execute_result"
    }
   ],
   "source": [
    "db.ninetynine.update_one({'title':'La Sagrada Família','date':'05.21.19'},{'$set': {'title':'La Sagrada Família 2'}})"
   ]
  },
  {
   "cell_type": "code",
   "execution_count": 703,
   "metadata": {},
   "outputs": [
    {
     "data": {
      "text/plain": [
       "<pymongo.results.UpdateResult at 0x37560907d0>"
      ]
     },
     "execution_count": 703,
     "metadata": {},
     "output_type": "execute_result"
    }
   ],
   "source": [
    "db.ninetynine.update_one({'title':'Structural Integrity','date':'10.12.15'},{'$set':{'title':'Structural Integrity 2'}})"
   ]
  },
  {
   "cell_type": "markdown",
   "metadata": {},
   "source": [
    "I should have just deleted these. I did when I processed the data. "
   ]
  },
  {
   "cell_type": "code",
   "execution_count": null,
   "metadata": {},
   "outputs": [],
   "source": []
  }
 ],
 "metadata": {
  "kernelspec": {
   "display_name": "Python [conda env:metis] *",
   "language": "python",
   "name": "conda-env-metis-py"
  },
  "language_info": {
   "codemirror_mode": {
    "name": "ipython",
    "version": 3
   },
   "file_extension": ".py",
   "mimetype": "text/x-python",
   "name": "python",
   "nbconvert_exporter": "python",
   "pygments_lexer": "ipython3",
   "version": "3.7.4"
  },
  "toc": {
   "base_numbering": 1,
   "nav_menu": {},
   "number_sections": true,
   "sideBar": true,
   "skip_h1_title": false,
   "title_cell": "Table of Contents",
   "title_sidebar": "Contents",
   "toc_cell": false,
   "toc_position": {
    "height": "calc(100% - 180px)",
    "left": "10px",
    "top": "150px",
    "width": "191px"
   },
   "toc_section_display": true,
   "toc_window_display": true
  }
 },
 "nbformat": 4,
 "nbformat_minor": 2
}
